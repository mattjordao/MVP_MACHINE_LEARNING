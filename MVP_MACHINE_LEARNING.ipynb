{
  "nbformat": 4,
  "nbformat_minor": 0,
  "metadata": {
    "colab": {
      "provenance": [],
      "authorship_tag": "ABX9TyOA1mzN9lcj3NVMePOpmfwm",
      "include_colab_link": true
    },
    "kernelspec": {
      "name": "python3",
      "display_name": "Python 3"
    },
    "language_info": {
      "name": "python"
    }
  },
  "cells": [
    {
      "cell_type": "markdown",
      "metadata": {
        "id": "view-in-github",
        "colab_type": "text"
      },
      "source": [
        "<a href=\"https://colab.research.google.com/github/mattjordao/MVP_MACHINE_LEARNING/blob/main/MVP_MACHINE_LEARNING.ipynb\" target=\"_parent\"><img src=\"https://colab.research.google.com/assets/colab-badge.svg\" alt=\"Open In Colab\"/></a>"
      ]
    },
    {
      "cell_type": "markdown",
      "source": [
        "**Projeto Desenvolvido por**: Mattheus Jordão Monteiro  \n",
        "**Matrícula**: 4052025000505  \n",
        "**Contato**: mattjordao@hotmail.com  \n",
        "**Data**: 28/09/2025"
      ],
      "metadata": {
        "id": "ppuvbakcqq8V"
      }
    },
    {
      "cell_type": "markdown",
      "source": [
        "# Projeto de Machine Learning: Classificação de Parkinson\n",
        "\n",
        "## 1. Definição do Problema\n",
        "\n",
        "### 1.1 Contexto e Objetivo\n",
        "Este projeto tem como objetivo desenvolver um modelo de machine learning para classificação da doença de Parkinson com base em medidas de voz. A doença de Parkinson é um distúrbio neurodegenerativo que afeta o movimento, e alterações na voz são um dos sintomas precoces mais comuns.\n",
        "\n",
        "**Problema**: Classificação binária para detectar a presença da doença de Parkinson a partir de atributos de voz.\n",
        "\n",
        "**Hipóteses**:\n",
        "- As medidas de voz contêm informações suficientes para distinguir entre indivíduos saudáveis e com Parkinson\n",
        "- Certos atributos de voz são mais discriminativos que outros\n",
        "- Modelos de classificação podem alcançar alta acurácia neste problema\n",
        "\n",
        "### 1.2 Descrição do Dataset\n",
        "O dataset contém 195 registros com 23 atributos biomédicos de voz de 31 indivíduos, sendo 23 com Parkinson.\n",
        "\n",
        "**Características Principais**:\n",
        "- **Total de registros**: 195\n",
        "- **Número de indivíduos**: 31\n",
        "- **Pacientes com Parkinson**: 23\n",
        "- **Atributos**: 23 medidas de voz (Fo, Fhi, Flo, Jitter, Shimmer, etc.)\n",
        "- **Atributo alvo**: status (0 = saudável, 1 = Parkinson)"
      ],
      "metadata": {
        "id": "g5jrIyvggQNo"
      }
    },
    {
      "cell_type": "markdown",
      "source": [
        "## 2. Preparação dos Dados"
      ],
      "metadata": {
        "id": "4hw45XLbgh17"
      }
    },
    {
      "cell_type": "code",
      "source": [
        "import pandas as pd\n",
        "import numpy as np\n",
        "import matplotlib.pyplot as plt\n",
        "import seaborn as sns\n",
        "from sklearn.model_selection import train_test_split, cross_val_score, GridSearchCV\n",
        "from sklearn.preprocessing import StandardScaler, LabelEncoder\n",
        "from sklearn.ensemble import RandomForestClassifier, GradientBoostingClassifier\n",
        "from sklearn.svm import SVC\n",
        "from sklearn.linear_model import LogisticRegression\n",
        "from sklearn.metrics import classification_report, confusion_matrix, roc_auc_score, roc_curve\n",
        "from sklearn.pipeline import Pipeline\n",
        "import warnings\n",
        "warnings.filterwarnings('ignore')\n",
        "\n",
        "# Configurações para reprodutibilidade\n",
        "np.random.seed(42)"
      ],
      "metadata": {
        "id": "OMVvIaYPeaMK"
      },
      "execution_count": 1,
      "outputs": []
    },
    {
      "cell_type": "markdown",
      "source": [
        "### 2.1 Carga dos Dados"
      ],
      "metadata": {
        "id": "e7VaKoR7gygw"
      }
    },
    {
      "cell_type": "code",
      "source": [
        "# Carregando o dataset diretamente da URL\n",
        "url = \"https://archive.ics.uci.edu/ml/machine-learning-databases/parkinsons/parkinsons.data\"\n",
        "df = pd.read_csv(url)\n",
        "\n",
        "print(\"Dimensões do dataset:\", df.shape)\n",
        "print(\"\\nPrimeiras 5 linhas:\")\n",
        "df.head()"
      ],
      "metadata": {
        "colab": {
          "base_uri": "https://localhost:8080/",
          "height": 308
        },
        "id": "-tm5Zm7tecgg",
        "outputId": "9f6d0e61-0916-4ad8-a221-981e871f434e"
      },
      "execution_count": 2,
      "outputs": [
        {
          "output_type": "stream",
          "name": "stdout",
          "text": [
            "Dimensões do dataset: (195, 24)\n",
            "\n",
            "Primeiras 5 linhas:\n"
          ]
        },
        {
          "output_type": "execute_result",
          "data": {
            "text/plain": [
              "             name  MDVP:Fo(Hz)  MDVP:Fhi(Hz)  MDVP:Flo(Hz)  MDVP:Jitter(%)  \\\n",
              "0  phon_R01_S01_1      119.992       157.302        74.997         0.00784   \n",
              "1  phon_R01_S01_2      122.400       148.650       113.819         0.00968   \n",
              "2  phon_R01_S01_3      116.682       131.111       111.555         0.01050   \n",
              "3  phon_R01_S01_4      116.676       137.871       111.366         0.00997   \n",
              "4  phon_R01_S01_5      116.014       141.781       110.655         0.01284   \n",
              "\n",
              "   MDVP:Jitter(Abs)  MDVP:RAP  MDVP:PPQ  Jitter:DDP  MDVP:Shimmer  ...  \\\n",
              "0           0.00007   0.00370   0.00554     0.01109       0.04374  ...   \n",
              "1           0.00008   0.00465   0.00696     0.01394       0.06134  ...   \n",
              "2           0.00009   0.00544   0.00781     0.01633       0.05233  ...   \n",
              "3           0.00009   0.00502   0.00698     0.01505       0.05492  ...   \n",
              "4           0.00011   0.00655   0.00908     0.01966       0.06425  ...   \n",
              "\n",
              "   Shimmer:DDA      NHR     HNR  status      RPDE       DFA   spread1  \\\n",
              "0      0.06545  0.02211  21.033       1  0.414783  0.815285 -4.813031   \n",
              "1      0.09403  0.01929  19.085       1  0.458359  0.819521 -4.075192   \n",
              "2      0.08270  0.01309  20.651       1  0.429895  0.825288 -4.443179   \n",
              "3      0.08771  0.01353  20.644       1  0.434969  0.819235 -4.117501   \n",
              "4      0.10470  0.01767  19.649       1  0.417356  0.823484 -3.747787   \n",
              "\n",
              "    spread2        D2       PPE  \n",
              "0  0.266482  2.301442  0.284654  \n",
              "1  0.335590  2.486855  0.368674  \n",
              "2  0.311173  2.342259  0.332634  \n",
              "3  0.334147  2.405554  0.368975  \n",
              "4  0.234513  2.332180  0.410335  \n",
              "\n",
              "[5 rows x 24 columns]"
            ],
            "text/html": [
              "\n",
              "  <div id=\"df-15c91bae-f8ee-4da5-94af-4ac4344ce7cf\" class=\"colab-df-container\">\n",
              "    <div>\n",
              "<style scoped>\n",
              "    .dataframe tbody tr th:only-of-type {\n",
              "        vertical-align: middle;\n",
              "    }\n",
              "\n",
              "    .dataframe tbody tr th {\n",
              "        vertical-align: top;\n",
              "    }\n",
              "\n",
              "    .dataframe thead th {\n",
              "        text-align: right;\n",
              "    }\n",
              "</style>\n",
              "<table border=\"1\" class=\"dataframe\">\n",
              "  <thead>\n",
              "    <tr style=\"text-align: right;\">\n",
              "      <th></th>\n",
              "      <th>name</th>\n",
              "      <th>MDVP:Fo(Hz)</th>\n",
              "      <th>MDVP:Fhi(Hz)</th>\n",
              "      <th>MDVP:Flo(Hz)</th>\n",
              "      <th>MDVP:Jitter(%)</th>\n",
              "      <th>MDVP:Jitter(Abs)</th>\n",
              "      <th>MDVP:RAP</th>\n",
              "      <th>MDVP:PPQ</th>\n",
              "      <th>Jitter:DDP</th>\n",
              "      <th>MDVP:Shimmer</th>\n",
              "      <th>...</th>\n",
              "      <th>Shimmer:DDA</th>\n",
              "      <th>NHR</th>\n",
              "      <th>HNR</th>\n",
              "      <th>status</th>\n",
              "      <th>RPDE</th>\n",
              "      <th>DFA</th>\n",
              "      <th>spread1</th>\n",
              "      <th>spread2</th>\n",
              "      <th>D2</th>\n",
              "      <th>PPE</th>\n",
              "    </tr>\n",
              "  </thead>\n",
              "  <tbody>\n",
              "    <tr>\n",
              "      <th>0</th>\n",
              "      <td>phon_R01_S01_1</td>\n",
              "      <td>119.992</td>\n",
              "      <td>157.302</td>\n",
              "      <td>74.997</td>\n",
              "      <td>0.00784</td>\n",
              "      <td>0.00007</td>\n",
              "      <td>0.00370</td>\n",
              "      <td>0.00554</td>\n",
              "      <td>0.01109</td>\n",
              "      <td>0.04374</td>\n",
              "      <td>...</td>\n",
              "      <td>0.06545</td>\n",
              "      <td>0.02211</td>\n",
              "      <td>21.033</td>\n",
              "      <td>1</td>\n",
              "      <td>0.414783</td>\n",
              "      <td>0.815285</td>\n",
              "      <td>-4.813031</td>\n",
              "      <td>0.266482</td>\n",
              "      <td>2.301442</td>\n",
              "      <td>0.284654</td>\n",
              "    </tr>\n",
              "    <tr>\n",
              "      <th>1</th>\n",
              "      <td>phon_R01_S01_2</td>\n",
              "      <td>122.400</td>\n",
              "      <td>148.650</td>\n",
              "      <td>113.819</td>\n",
              "      <td>0.00968</td>\n",
              "      <td>0.00008</td>\n",
              "      <td>0.00465</td>\n",
              "      <td>0.00696</td>\n",
              "      <td>0.01394</td>\n",
              "      <td>0.06134</td>\n",
              "      <td>...</td>\n",
              "      <td>0.09403</td>\n",
              "      <td>0.01929</td>\n",
              "      <td>19.085</td>\n",
              "      <td>1</td>\n",
              "      <td>0.458359</td>\n",
              "      <td>0.819521</td>\n",
              "      <td>-4.075192</td>\n",
              "      <td>0.335590</td>\n",
              "      <td>2.486855</td>\n",
              "      <td>0.368674</td>\n",
              "    </tr>\n",
              "    <tr>\n",
              "      <th>2</th>\n",
              "      <td>phon_R01_S01_3</td>\n",
              "      <td>116.682</td>\n",
              "      <td>131.111</td>\n",
              "      <td>111.555</td>\n",
              "      <td>0.01050</td>\n",
              "      <td>0.00009</td>\n",
              "      <td>0.00544</td>\n",
              "      <td>0.00781</td>\n",
              "      <td>0.01633</td>\n",
              "      <td>0.05233</td>\n",
              "      <td>...</td>\n",
              "      <td>0.08270</td>\n",
              "      <td>0.01309</td>\n",
              "      <td>20.651</td>\n",
              "      <td>1</td>\n",
              "      <td>0.429895</td>\n",
              "      <td>0.825288</td>\n",
              "      <td>-4.443179</td>\n",
              "      <td>0.311173</td>\n",
              "      <td>2.342259</td>\n",
              "      <td>0.332634</td>\n",
              "    </tr>\n",
              "    <tr>\n",
              "      <th>3</th>\n",
              "      <td>phon_R01_S01_4</td>\n",
              "      <td>116.676</td>\n",
              "      <td>137.871</td>\n",
              "      <td>111.366</td>\n",
              "      <td>0.00997</td>\n",
              "      <td>0.00009</td>\n",
              "      <td>0.00502</td>\n",
              "      <td>0.00698</td>\n",
              "      <td>0.01505</td>\n",
              "      <td>0.05492</td>\n",
              "      <td>...</td>\n",
              "      <td>0.08771</td>\n",
              "      <td>0.01353</td>\n",
              "      <td>20.644</td>\n",
              "      <td>1</td>\n",
              "      <td>0.434969</td>\n",
              "      <td>0.819235</td>\n",
              "      <td>-4.117501</td>\n",
              "      <td>0.334147</td>\n",
              "      <td>2.405554</td>\n",
              "      <td>0.368975</td>\n",
              "    </tr>\n",
              "    <tr>\n",
              "      <th>4</th>\n",
              "      <td>phon_R01_S01_5</td>\n",
              "      <td>116.014</td>\n",
              "      <td>141.781</td>\n",
              "      <td>110.655</td>\n",
              "      <td>0.01284</td>\n",
              "      <td>0.00011</td>\n",
              "      <td>0.00655</td>\n",
              "      <td>0.00908</td>\n",
              "      <td>0.01966</td>\n",
              "      <td>0.06425</td>\n",
              "      <td>...</td>\n",
              "      <td>0.10470</td>\n",
              "      <td>0.01767</td>\n",
              "      <td>19.649</td>\n",
              "      <td>1</td>\n",
              "      <td>0.417356</td>\n",
              "      <td>0.823484</td>\n",
              "      <td>-3.747787</td>\n",
              "      <td>0.234513</td>\n",
              "      <td>2.332180</td>\n",
              "      <td>0.410335</td>\n",
              "    </tr>\n",
              "  </tbody>\n",
              "</table>\n",
              "<p>5 rows × 24 columns</p>\n",
              "</div>\n",
              "    <div class=\"colab-df-buttons\">\n",
              "\n",
              "  <div class=\"colab-df-container\">\n",
              "    <button class=\"colab-df-convert\" onclick=\"convertToInteractive('df-15c91bae-f8ee-4da5-94af-4ac4344ce7cf')\"\n",
              "            title=\"Convert this dataframe to an interactive table.\"\n",
              "            style=\"display:none;\">\n",
              "\n",
              "  <svg xmlns=\"http://www.w3.org/2000/svg\" height=\"24px\" viewBox=\"0 -960 960 960\">\n",
              "    <path d=\"M120-120v-720h720v720H120Zm60-500h600v-160H180v160Zm220 220h160v-160H400v160Zm0 220h160v-160H400v160ZM180-400h160v-160H180v160Zm440 0h160v-160H620v160ZM180-180h160v-160H180v160Zm440 0h160v-160H620v160Z\"/>\n",
              "  </svg>\n",
              "    </button>\n",
              "\n",
              "  <style>\n",
              "    .colab-df-container {\n",
              "      display:flex;\n",
              "      gap: 12px;\n",
              "    }\n",
              "\n",
              "    .colab-df-convert {\n",
              "      background-color: #E8F0FE;\n",
              "      border: none;\n",
              "      border-radius: 50%;\n",
              "      cursor: pointer;\n",
              "      display: none;\n",
              "      fill: #1967D2;\n",
              "      height: 32px;\n",
              "      padding: 0 0 0 0;\n",
              "      width: 32px;\n",
              "    }\n",
              "\n",
              "    .colab-df-convert:hover {\n",
              "      background-color: #E2EBFA;\n",
              "      box-shadow: 0px 1px 2px rgba(60, 64, 67, 0.3), 0px 1px 3px 1px rgba(60, 64, 67, 0.15);\n",
              "      fill: #174EA6;\n",
              "    }\n",
              "\n",
              "    .colab-df-buttons div {\n",
              "      margin-bottom: 4px;\n",
              "    }\n",
              "\n",
              "    [theme=dark] .colab-df-convert {\n",
              "      background-color: #3B4455;\n",
              "      fill: #D2E3FC;\n",
              "    }\n",
              "\n",
              "    [theme=dark] .colab-df-convert:hover {\n",
              "      background-color: #434B5C;\n",
              "      box-shadow: 0px 1px 3px 1px rgba(0, 0, 0, 0.15);\n",
              "      filter: drop-shadow(0px 1px 2px rgba(0, 0, 0, 0.3));\n",
              "      fill: #FFFFFF;\n",
              "    }\n",
              "  </style>\n",
              "\n",
              "    <script>\n",
              "      const buttonEl =\n",
              "        document.querySelector('#df-15c91bae-f8ee-4da5-94af-4ac4344ce7cf button.colab-df-convert');\n",
              "      buttonEl.style.display =\n",
              "        google.colab.kernel.accessAllowed ? 'block' : 'none';\n",
              "\n",
              "      async function convertToInteractive(key) {\n",
              "        const element = document.querySelector('#df-15c91bae-f8ee-4da5-94af-4ac4344ce7cf');\n",
              "        const dataTable =\n",
              "          await google.colab.kernel.invokeFunction('convertToInteractive',\n",
              "                                                    [key], {});\n",
              "        if (!dataTable) return;\n",
              "\n",
              "        const docLinkHtml = 'Like what you see? Visit the ' +\n",
              "          '<a target=\"_blank\" href=https://colab.research.google.com/notebooks/data_table.ipynb>data table notebook</a>'\n",
              "          + ' to learn more about interactive tables.';\n",
              "        element.innerHTML = '';\n",
              "        dataTable['output_type'] = 'display_data';\n",
              "        await google.colab.output.renderOutput(dataTable, element);\n",
              "        const docLink = document.createElement('div');\n",
              "        docLink.innerHTML = docLinkHtml;\n",
              "        element.appendChild(docLink);\n",
              "      }\n",
              "    </script>\n",
              "  </div>\n",
              "\n",
              "\n",
              "    <div id=\"df-085fffce-df6b-4bb8-b8bd-eea754b3edfa\">\n",
              "      <button class=\"colab-df-quickchart\" onclick=\"quickchart('df-085fffce-df6b-4bb8-b8bd-eea754b3edfa')\"\n",
              "                title=\"Suggest charts\"\n",
              "                style=\"display:none;\">\n",
              "\n",
              "<svg xmlns=\"http://www.w3.org/2000/svg\" height=\"24px\"viewBox=\"0 0 24 24\"\n",
              "     width=\"24px\">\n",
              "    <g>\n",
              "        <path d=\"M19 3H5c-1.1 0-2 .9-2 2v14c0 1.1.9 2 2 2h14c1.1 0 2-.9 2-2V5c0-1.1-.9-2-2-2zM9 17H7v-7h2v7zm4 0h-2V7h2v10zm4 0h-2v-4h2v4z\"/>\n",
              "    </g>\n",
              "</svg>\n",
              "      </button>\n",
              "\n",
              "<style>\n",
              "  .colab-df-quickchart {\n",
              "      --bg-color: #E8F0FE;\n",
              "      --fill-color: #1967D2;\n",
              "      --hover-bg-color: #E2EBFA;\n",
              "      --hover-fill-color: #174EA6;\n",
              "      --disabled-fill-color: #AAA;\n",
              "      --disabled-bg-color: #DDD;\n",
              "  }\n",
              "\n",
              "  [theme=dark] .colab-df-quickchart {\n",
              "      --bg-color: #3B4455;\n",
              "      --fill-color: #D2E3FC;\n",
              "      --hover-bg-color: #434B5C;\n",
              "      --hover-fill-color: #FFFFFF;\n",
              "      --disabled-bg-color: #3B4455;\n",
              "      --disabled-fill-color: #666;\n",
              "  }\n",
              "\n",
              "  .colab-df-quickchart {\n",
              "    background-color: var(--bg-color);\n",
              "    border: none;\n",
              "    border-radius: 50%;\n",
              "    cursor: pointer;\n",
              "    display: none;\n",
              "    fill: var(--fill-color);\n",
              "    height: 32px;\n",
              "    padding: 0;\n",
              "    width: 32px;\n",
              "  }\n",
              "\n",
              "  .colab-df-quickchart:hover {\n",
              "    background-color: var(--hover-bg-color);\n",
              "    box-shadow: 0 1px 2px rgba(60, 64, 67, 0.3), 0 1px 3px 1px rgba(60, 64, 67, 0.15);\n",
              "    fill: var(--button-hover-fill-color);\n",
              "  }\n",
              "\n",
              "  .colab-df-quickchart-complete:disabled,\n",
              "  .colab-df-quickchart-complete:disabled:hover {\n",
              "    background-color: var(--disabled-bg-color);\n",
              "    fill: var(--disabled-fill-color);\n",
              "    box-shadow: none;\n",
              "  }\n",
              "\n",
              "  .colab-df-spinner {\n",
              "    border: 2px solid var(--fill-color);\n",
              "    border-color: transparent;\n",
              "    border-bottom-color: var(--fill-color);\n",
              "    animation:\n",
              "      spin 1s steps(1) infinite;\n",
              "  }\n",
              "\n",
              "  @keyframes spin {\n",
              "    0% {\n",
              "      border-color: transparent;\n",
              "      border-bottom-color: var(--fill-color);\n",
              "      border-left-color: var(--fill-color);\n",
              "    }\n",
              "    20% {\n",
              "      border-color: transparent;\n",
              "      border-left-color: var(--fill-color);\n",
              "      border-top-color: var(--fill-color);\n",
              "    }\n",
              "    30% {\n",
              "      border-color: transparent;\n",
              "      border-left-color: var(--fill-color);\n",
              "      border-top-color: var(--fill-color);\n",
              "      border-right-color: var(--fill-color);\n",
              "    }\n",
              "    40% {\n",
              "      border-color: transparent;\n",
              "      border-right-color: var(--fill-color);\n",
              "      border-top-color: var(--fill-color);\n",
              "    }\n",
              "    60% {\n",
              "      border-color: transparent;\n",
              "      border-right-color: var(--fill-color);\n",
              "    }\n",
              "    80% {\n",
              "      border-color: transparent;\n",
              "      border-right-color: var(--fill-color);\n",
              "      border-bottom-color: var(--fill-color);\n",
              "    }\n",
              "    90% {\n",
              "      border-color: transparent;\n",
              "      border-bottom-color: var(--fill-color);\n",
              "    }\n",
              "  }\n",
              "</style>\n",
              "\n",
              "      <script>\n",
              "        async function quickchart(key) {\n",
              "          const quickchartButtonEl =\n",
              "            document.querySelector('#' + key + ' button');\n",
              "          quickchartButtonEl.disabled = true;  // To prevent multiple clicks.\n",
              "          quickchartButtonEl.classList.add('colab-df-spinner');\n",
              "          try {\n",
              "            const charts = await google.colab.kernel.invokeFunction(\n",
              "                'suggestCharts', [key], {});\n",
              "          } catch (error) {\n",
              "            console.error('Error during call to suggestCharts:', error);\n",
              "          }\n",
              "          quickchartButtonEl.classList.remove('colab-df-spinner');\n",
              "          quickchartButtonEl.classList.add('colab-df-quickchart-complete');\n",
              "        }\n",
              "        (() => {\n",
              "          let quickchartButtonEl =\n",
              "            document.querySelector('#df-085fffce-df6b-4bb8-b8bd-eea754b3edfa button');\n",
              "          quickchartButtonEl.style.display =\n",
              "            google.colab.kernel.accessAllowed ? 'block' : 'none';\n",
              "        })();\n",
              "      </script>\n",
              "    </div>\n",
              "\n",
              "    </div>\n",
              "  </div>\n"
            ],
            "application/vnd.google.colaboratory.intrinsic+json": {
              "type": "dataframe",
              "variable_name": "df"
            }
          },
          "metadata": {},
          "execution_count": 2
        }
      ]
    },
    {
      "cell_type": "markdown",
      "source": [
        "### 2.2 Análise Exploratória Inicial"
      ],
      "metadata": {
        "id": "8AxkBNSfg22E"
      }
    },
    {
      "cell_type": "code",
      "source": [
        "# Informações básicas sobre o dataset\n",
        "print(\"Informações do dataset:\")\n",
        "print(df.info())\n",
        "print(\"\\nEstatísticas descritivas:\")\n",
        "print(df.describe())\n",
        "\n",
        "# Verificando valores missing\n",
        "print(\"\\nValores missing por coluna:\")\n",
        "print(df.isnull().sum())"
      ],
      "metadata": {
        "colab": {
          "base_uri": "https://localhost:8080/"
        },
        "id": "5HAI0vEoegkX",
        "outputId": "8c3d515a-d3e5-4807-a473-c1bde47d23cf"
      },
      "execution_count": 3,
      "outputs": [
        {
          "output_type": "stream",
          "name": "stdout",
          "text": [
            "Informações do dataset:\n",
            "<class 'pandas.core.frame.DataFrame'>\n",
            "RangeIndex: 195 entries, 0 to 194\n",
            "Data columns (total 24 columns):\n",
            " #   Column            Non-Null Count  Dtype  \n",
            "---  ------            --------------  -----  \n",
            " 0   name              195 non-null    object \n",
            " 1   MDVP:Fo(Hz)       195 non-null    float64\n",
            " 2   MDVP:Fhi(Hz)      195 non-null    float64\n",
            " 3   MDVP:Flo(Hz)      195 non-null    float64\n",
            " 4   MDVP:Jitter(%)    195 non-null    float64\n",
            " 5   MDVP:Jitter(Abs)  195 non-null    float64\n",
            " 6   MDVP:RAP          195 non-null    float64\n",
            " 7   MDVP:PPQ          195 non-null    float64\n",
            " 8   Jitter:DDP        195 non-null    float64\n",
            " 9   MDVP:Shimmer      195 non-null    float64\n",
            " 10  MDVP:Shimmer(dB)  195 non-null    float64\n",
            " 11  Shimmer:APQ3      195 non-null    float64\n",
            " 12  Shimmer:APQ5      195 non-null    float64\n",
            " 13  MDVP:APQ          195 non-null    float64\n",
            " 14  Shimmer:DDA       195 non-null    float64\n",
            " 15  NHR               195 non-null    float64\n",
            " 16  HNR               195 non-null    float64\n",
            " 17  status            195 non-null    int64  \n",
            " 18  RPDE              195 non-null    float64\n",
            " 19  DFA               195 non-null    float64\n",
            " 20  spread1           195 non-null    float64\n",
            " 21  spread2           195 non-null    float64\n",
            " 22  D2                195 non-null    float64\n",
            " 23  PPE               195 non-null    float64\n",
            "dtypes: float64(22), int64(1), object(1)\n",
            "memory usage: 36.7+ KB\n",
            "None\n",
            "\n",
            "Estatísticas descritivas:\n",
            "       MDVP:Fo(Hz)  MDVP:Fhi(Hz)  MDVP:Flo(Hz)  MDVP:Jitter(%)  \\\n",
            "count   195.000000    195.000000    195.000000      195.000000   \n",
            "mean    154.228641    197.104918    116.324631        0.006220   \n",
            "std      41.390065     91.491548     43.521413        0.004848   \n",
            "min      88.333000    102.145000     65.476000        0.001680   \n",
            "25%     117.572000    134.862500     84.291000        0.003460   \n",
            "50%     148.790000    175.829000    104.315000        0.004940   \n",
            "75%     182.769000    224.205500    140.018500        0.007365   \n",
            "max     260.105000    592.030000    239.170000        0.033160   \n",
            "\n",
            "       MDVP:Jitter(Abs)    MDVP:RAP    MDVP:PPQ  Jitter:DDP  MDVP:Shimmer  \\\n",
            "count        195.000000  195.000000  195.000000  195.000000    195.000000   \n",
            "mean           0.000044    0.003306    0.003446    0.009920      0.029709   \n",
            "std            0.000035    0.002968    0.002759    0.008903      0.018857   \n",
            "min            0.000007    0.000680    0.000920    0.002040      0.009540   \n",
            "25%            0.000020    0.001660    0.001860    0.004985      0.016505   \n",
            "50%            0.000030    0.002500    0.002690    0.007490      0.022970   \n",
            "75%            0.000060    0.003835    0.003955    0.011505      0.037885   \n",
            "max            0.000260    0.021440    0.019580    0.064330      0.119080   \n",
            "\n",
            "       MDVP:Shimmer(dB)  ...  Shimmer:DDA         NHR         HNR      status  \\\n",
            "count        195.000000  ...   195.000000  195.000000  195.000000  195.000000   \n",
            "mean           0.282251  ...     0.046993    0.024847   21.885974    0.753846   \n",
            "std            0.194877  ...     0.030459    0.040418    4.425764    0.431878   \n",
            "min            0.085000  ...     0.013640    0.000650    8.441000    0.000000   \n",
            "25%            0.148500  ...     0.024735    0.005925   19.198000    1.000000   \n",
            "50%            0.221000  ...     0.038360    0.011660   22.085000    1.000000   \n",
            "75%            0.350000  ...     0.060795    0.025640   25.075500    1.000000   \n",
            "max            1.302000  ...     0.169420    0.314820   33.047000    1.000000   \n",
            "\n",
            "             RPDE         DFA     spread1     spread2          D2         PPE  \n",
            "count  195.000000  195.000000  195.000000  195.000000  195.000000  195.000000  \n",
            "mean     0.498536    0.718099   -5.684397    0.226510    2.381826    0.206552  \n",
            "std      0.103942    0.055336    1.090208    0.083406    0.382799    0.090119  \n",
            "min      0.256570    0.574282   -7.964984    0.006274    1.423287    0.044539  \n",
            "25%      0.421306    0.674758   -6.450096    0.174351    2.099125    0.137451  \n",
            "50%      0.495954    0.722254   -5.720868    0.218885    2.361532    0.194052  \n",
            "75%      0.587562    0.761881   -5.046192    0.279234    2.636456    0.252980  \n",
            "max      0.685151    0.825288   -2.434031    0.450493    3.671155    0.527367  \n",
            "\n",
            "[8 rows x 23 columns]\n",
            "\n",
            "Valores missing por coluna:\n",
            "name                0\n",
            "MDVP:Fo(Hz)         0\n",
            "MDVP:Fhi(Hz)        0\n",
            "MDVP:Flo(Hz)        0\n",
            "MDVP:Jitter(%)      0\n",
            "MDVP:Jitter(Abs)    0\n",
            "MDVP:RAP            0\n",
            "MDVP:PPQ            0\n",
            "Jitter:DDP          0\n",
            "MDVP:Shimmer        0\n",
            "MDVP:Shimmer(dB)    0\n",
            "Shimmer:APQ3        0\n",
            "Shimmer:APQ5        0\n",
            "MDVP:APQ            0\n",
            "Shimmer:DDA         0\n",
            "NHR                 0\n",
            "HNR                 0\n",
            "status              0\n",
            "RPDE                0\n",
            "DFA                 0\n",
            "spread1             0\n",
            "spread2             0\n",
            "D2                  0\n",
            "PPE                 0\n",
            "dtype: int64\n"
          ]
        }
      ]
    },
    {
      "cell_type": "markdown",
      "source": [
        "### 2.3 Análise da Distribuição da Variável Alvo"
      ],
      "metadata": {
        "id": "EHohRQLog8Wi"
      }
    },
    {
      "cell_type": "code",
      "source": [
        "# Distribuição da variável alvo\n",
        "plt.figure(figsize=(8, 6))\n",
        "target_counts = df['status'].value_counts()\n",
        "plt.bar(['Saudável (0)', 'Parkinson (1)'], target_counts.values, color=['lightblue', 'lightcoral'])\n",
        "plt.title('Distribuição da Variável Alvo')\n",
        "plt.ylabel('Quantidade')\n",
        "plt.text(0, target_counts[0]//2, f'{target_counts[0]}', ha='center', va='center', fontsize=12, fontweight='bold')\n",
        "plt.text(1, target_counts[1]//2, f'{target_counts[1]}', ha='center', va='center', fontsize=12, fontweight='bold')\n",
        "plt.show()\n",
        "\n",
        "print(f\"Proporção Parkinson: {target_counts[1]/len(df):.2%}\")\n",
        "print(f\"Proporção Saudável: {target_counts[0]/len(df):.2%}\")"
      ],
      "metadata": {
        "colab": {
          "base_uri": "https://localhost:8080/",
          "height": 580
        },
        "id": "bwOIrnXYej2w",
        "outputId": "e63c9dec-87d7-4170-d779-8ad9cefb0048"
      },
      "execution_count": 4,
      "outputs": [
        {
          "output_type": "display_data",
          "data": {
            "text/plain": [
              "<Figure size 800x600 with 1 Axes>"
            ],
            "image/png": "[encoded data removed]"
          },
          "metadata": {}
        },
        {
          "output_type": "stream",
          "name": "stdout",
          "text": [
            "Proporção Parkinson: 75.38%\n",
            "Proporção Saudável: 24.62%\n"
          ]
        }
      ]
    },
    {
      "cell_type": "markdown",
      "source": [
        "### 2.4 Engenharia de Atributos e Seleção"
      ],
      "metadata": {
        "id": "dmnOlsTZg-27"
      }
    },
    {
      "cell_type": "code",
      "source": [
        "# Removendo coluna 'name' que é identificadora\n",
        "X = df.drop(['name', 'status'], axis=1)\n",
        "y = df['status']\n",
        "\n",
        "# Analisando correlação com a variável alvo\n",
        "correlations = X.corrwith(y).abs().sort_values(ascending=False)\n",
        "print(\"Correlações com a variável alvo:\")\n",
        "print(correlations.head(10))\n",
        "\n",
        "# Selecionando as 10 features mais correlacionadas\n",
        "selected_features = correlations.head(10).index.tolist()\n",
        "X_selected = X[selected_features]\n",
        "\n",
        "print(f\"\\nFeatures selecionadas: {selected_features}\")"
      ],
      "metadata": {
        "colab": {
          "base_uri": "https://localhost:8080/"
        },
        "id": "JtvThq0heojy",
        "outputId": "392c94a1-c4b2-4c19-df1e-77825fee27d6"
      },
      "execution_count": 5,
      "outputs": [
        {
          "output_type": "stream",
          "name": "stdout",
          "text": [
            "Correlações com a variável alvo:\n",
            "spread1             0.564838\n",
            "PPE                 0.531039\n",
            "spread2             0.454842\n",
            "MDVP:Fo(Hz)         0.383535\n",
            "MDVP:Flo(Hz)        0.380200\n",
            "MDVP:Shimmer        0.367430\n",
            "MDVP:APQ            0.364316\n",
            "HNR                 0.361515\n",
            "Shimmer:APQ5        0.351148\n",
            "MDVP:Shimmer(dB)    0.350697\n",
            "dtype: float64\n",
            "\n",
            "Features selecionadas: ['spread1', 'PPE', 'spread2', 'MDVP:Fo(Hz)', 'MDVP:Flo(Hz)', 'MDVP:Shimmer', 'MDVP:APQ', 'HNR', 'Shimmer:APQ5', 'MDVP:Shimmer(dB)']\n"
          ]
        }
      ]
    },
    {
      "cell_type": "markdown",
      "source": [
        "### 2.5 Divisão dos Dados"
      ],
      "metadata": {
        "id": "9CxmJWOYhBlm"
      }
    },
    {
      "cell_type": "code",
      "source": [
        "# Divisão estratificada para manter a proporção das classes\n",
        "X_train, X_test, y_train, y_test = train_test_split(\n",
        "    X_selected, y, test_size=0.2, random_state=42, stratify=y\n",
        ")\n",
        "\n",
        "print(f\"Tamanho do conjunto de treino: {X_train.shape[0]}\")\n",
        "print(f\"Tamanho do conjunto de teste: {X_test.shape[0]}\")\n",
        "print(f\"Proporção de classes no treino: {np.bincount(y_train)/len(y_train)}\")\n",
        "print(f\"Proporção de classes no teste: {np.bincount(y_test)/len(y_test)}\")"
      ],
      "metadata": {
        "colab": {
          "base_uri": "https://localhost:8080/"
        },
        "id": "blEJgbuPeqry",
        "outputId": "ce96c12d-cee6-4ce3-87b3-ba75d9176c24"
      },
      "execution_count": 6,
      "outputs": [
        {
          "output_type": "stream",
          "name": "stdout",
          "text": [
            "Tamanho do conjunto de treino: 156\n",
            "Tamanho do conjunto de teste: 39\n",
            "Proporção de classes no treino: [0.24358974 0.75641026]\n",
            "Proporção de classes no teste: [0.25641026 0.74358974]\n"
          ]
        }
      ]
    },
    {
      "cell_type": "markdown",
      "source": [
        "## 3. Modelagem"
      ],
      "metadata": {
        "id": "eESNaYsXhJkm"
      }
    },
    {
      "cell_type": "markdown",
      "source": [
        "### 3.1 Baseline Model"
      ],
      "metadata": {
        "id": "yqT0z6eShOoG"
      }
    },
    {
      "cell_type": "code",
      "source": [
        "# Modelo baseline - Regressão Logística\n",
        "baseline_pipeline = Pipeline([\n",
        "    ('scaler', StandardScaler()),\n",
        "    ('classifier', LogisticRegression(random_state=42))\n",
        "])\n",
        "\n",
        "baseline_scores = cross_val_score(baseline_pipeline, X_train, y_train, cv=5, scoring='accuracy')\n",
        "print(f\"Acurácia média do baseline (5-fold CV): {baseline_scores.mean():.4f} (+/- {baseline_scores.std() * 2:.4f})\")"
      ],
      "metadata": {
        "colab": {
          "base_uri": "https://localhost:8080/"
        },
        "id": "aZ2QkrmUeuy3",
        "outputId": "8a292836-29a2-4330-fc30-fe099754e063"
      },
      "execution_count": 7,
      "outputs": [
        {
          "output_type": "stream",
          "name": "stdout",
          "text": [
            "Acurácia média do baseline (5-fold CV): 0.8145 (+/- 0.1216)\n"
          ]
        }
      ]
    },
    {
      "cell_type": "markdown",
      "source": [
        "### 3.2 Definição dos Modelos"
      ],
      "metadata": {
        "id": "HPDuwr5OhSwf"
      }
    },
    {
      "cell_type": "code",
      "source": [
        "# Definindo os modelos a serem testados\n",
        "models = {\n",
        "    'Logistic Regression': Pipeline([\n",
        "        ('scaler', StandardScaler()),\n",
        "        ('classifier', LogisticRegression(random_state=42))\n",
        "    ]),\n",
        "    'Random Forest': Pipeline([\n",
        "        ('scaler', StandardScaler()),\n",
        "        ('classifier', RandomForestClassifier(random_state=42))\n",
        "    ]),\n",
        "    'SVM': Pipeline([\n",
        "        ('scaler', StandardScaler()),\n",
        "        ('classifier', SVC(random_state=42, probability=True))\n",
        "    ]),\n",
        "    'Gradient Boosting': Pipeline([\n",
        "        ('scaler', StandardScaler()),\n",
        "        ('classifier', GradientBoostingClassifier(random_state=42))\n",
        "    ])\n",
        "}"
      ],
      "metadata": {
        "id": "BAbaeK_dexk2"
      },
      "execution_count": 8,
      "outputs": []
    },
    {
      "cell_type": "markdown",
      "source": [
        "### 3.3 Avaliação Inicial dos Modelos"
      ],
      "metadata": {
        "id": "PFghGKbbhVmi"
      }
    },
    {
      "cell_type": "code",
      "source": [
        "# Avaliando todos os modelos com validação cruzada\n",
        "results = {}\n",
        "for name, model in models.items():\n",
        "    cv_scores = cross_val_score(model, X_train, y_train, cv=5, scoring='accuracy')\n",
        "    results[name] = {\n",
        "        'mean_score': cv_scores.mean(),\n",
        "        'std_score': cv_scores.std()\n",
        "    }\n",
        "    print(f\"{name}: {cv_scores.mean():.4f} (+/- {cv_scores.std() * 2:.4f})\")"
      ],
      "metadata": {
        "colab": {
          "base_uri": "https://localhost:8080/"
        },
        "id": "fTGFAXOVe0lP",
        "outputId": "594c763a-294f-4aec-fff0-35d47a45c5dc"
      },
      "execution_count": 9,
      "outputs": [
        {
          "output_type": "stream",
          "name": "stdout",
          "text": [
            "Logistic Regression: 0.8145 (+/- 0.1216)\n",
            "Random Forest: 0.9042 (+/- 0.0785)\n",
            "SVM: 0.8526 (+/- 0.0302)\n",
            "Gradient Boosting: 0.9042 (+/- 0.1335)\n"
          ]
        }
      ]
    },
    {
      "cell_type": "markdown",
      "source": [
        "### 3.4 Otimização de Hiperparâmetros"
      ],
      "metadata": {
        "id": "k_hX5RcihX3W"
      }
    },
    {
      "cell_type": "code",
      "source": [
        "# Hiperparâmetros para otimização\n",
        "param_grids = {\n",
        "    'Random Forest': {\n",
        "        'classifier__n_estimators': [100, 200, 300],\n",
        "        'classifier__max_depth': [None, 10, 20],\n",
        "        'classifier__min_samples_split': [2, 5, 10]\n",
        "    },\n",
        "    'Gradient Boosting': {\n",
        "        'classifier__n_estimators': [100, 200],\n",
        "        'classifier__learning_rate': [0.05, 0.1, 0.2],\n",
        "        'classifier__max_depth': [3, 4, 5]\n",
        "    },\n",
        "    'SVM': {\n",
        "        'classifier__C': [0.1, 1, 10],\n",
        "        'classifier__gamma': ['scale', 'auto']\n",
        "    }\n",
        "}\n",
        "\n",
        "# Otimizando os melhores modelos\n",
        "best_models = {}\n",
        "for model_name in ['Random Forest', 'Gradient Boosting', 'SVM']:\n",
        "    print(f\"\\nOtimizando {model_name}...\")\n",
        "    grid_search = GridSearchCV(\n",
        "        models[model_name],\n",
        "        param_grids[model_name],\n",
        "        cv=5,\n",
        "        scoring='accuracy',\n",
        "        n_jobs=-1\n",
        "    )\n",
        "    grid_search.fit(X_train, y_train)\n",
        "    best_models[model_name] = grid_search.best_estimator_\n",
        "    print(f\"Melhores parâmetros: {grid_search.best_params_}\")\n",
        "    print(f\"Melhor score: {grid_search.best_score_:.4f}\")"
      ],
      "metadata": {
        "colab": {
          "base_uri": "https://localhost:8080/"
        },
        "id": "vjMDcTP4e704",
        "outputId": "cd4f61dd-d8a9-44c5-9188-beaff8ea9174"
      },
      "execution_count": 10,
      "outputs": [
        {
          "output_type": "stream",
          "name": "stdout",
          "text": [
            "\n",
            "Otimizando Random Forest...\n",
            "Melhores parâmetros: {'classifier__max_depth': None, 'classifier__min_samples_split': 2, 'classifier__n_estimators': 100}\n",
            "Melhor score: 0.9042\n",
            "\n",
            "Otimizando Gradient Boosting...\n",
            "Melhores parâmetros: {'classifier__learning_rate': 0.2, 'classifier__max_depth': 4, 'classifier__n_estimators': 100}\n",
            "Melhor score: 0.9234\n",
            "\n",
            "Otimizando SVM...\n",
            "Melhores parâmetros: {'classifier__C': 10, 'classifier__gamma': 'scale'}\n",
            "Melhor score: 0.9101\n"
          ]
        }
      ]
    },
    {
      "cell_type": "markdown",
      "source": [
        "## 4. Avaliação dos Resultados"
      ],
      "metadata": {
        "id": "wkbjGQLChbHw"
      }
    },
    {
      "cell_type": "markdown",
      "source": [
        "### 4.1 Comparação Final dos Modelos"
      ],
      "metadata": {
        "id": "zs1hH5ZvhdAD"
      }
    },
    {
      "cell_type": "code",
      "source": [
        "# Avaliando todos os modelos no conjunto de teste\n",
        "final_results = {}\n",
        "for name, model in best_models.items():\n",
        "    model.fit(X_train, y_train)\n",
        "    y_pred = model.predict(X_test)\n",
        "    y_pred_proba = model.predict_proba(X_test)[:, 1]\n",
        "\n",
        "    final_results[name] = {\n",
        "        'accuracy': np.mean(y_pred == y_test),\n",
        "        'roc_auc': roc_auc_score(y_test, y_pred_proba)\n",
        "    }\n",
        "\n",
        "# Adicionando o modelo baseline\n",
        "baseline_pipeline.fit(X_train, y_train)\n",
        "y_pred_baseline = baseline_pipeline.predict(X_test)\n",
        "y_pred_proba_baseline = baseline_pipeline.predict_proba(X_test)[:, 1]\n",
        "\n",
        "final_results['Logistic Regression'] = {\n",
        "    'accuracy': np.mean(y_pred_baseline == y_test),\n",
        "    'roc_auc': roc_auc_score(y_test, y_pred_proba_baseline)\n",
        "}\n",
        "\n",
        "# Exibindo resultados\n",
        "results_df = pd.DataFrame(final_results).T\n",
        "results_df = results_df.sort_values('roc_auc', ascending=False)\n",
        "print(\"Resultados finais nos dados de teste:\")\n",
        "print(results_df)"
      ],
      "metadata": {
        "colab": {
          "base_uri": "https://localhost:8080/"
        },
        "id": "kXMoelyxfRei",
        "outputId": "55f993a8-856c-4eb2-bd30-f162f29fead3"
      },
      "execution_count": 11,
      "outputs": [
        {
          "output_type": "stream",
          "name": "stdout",
          "text": [
            "Resultados finais nos dados de teste:\n",
            "                     accuracy   roc_auc\n",
            "Random Forest        0.948718  0.972414\n",
            "Gradient Boosting    0.846154  0.951724\n",
            "SVM                  0.897436  0.937931\n",
            "Logistic Regression  0.871795  0.910345\n"
          ]
        }
      ]
    },
    {
      "cell_type": "markdown",
      "source": [
        "### 4.2 Análise do Melhor Modelo"
      ],
      "metadata": {
        "id": "1yfRSBRghf87"
      }
    },
    {
      "cell_type": "code",
      "source": [
        "# Selecionando o melhor modelo\n",
        "best_model_name = results_df.index[0]\n",
        "best_model = best_models.get(best_model_name, baseline_pipeline)\n",
        "\n",
        "print(f\"Melhor modelo: {best_model_name}\")\n",
        "\n",
        "# Métricas detalhadas\n",
        "y_pred_best = best_model.predict(X_test)\n",
        "y_pred_proba_best = best_model.predict_proba(X_test)[:, 1]\n",
        "\n",
        "print(\"\\nRelatório de Classificação:\")\n",
        "print(classification_report(y_test, y_pred_best))\n",
        "\n",
        "# Matriz de confusão\n",
        "plt.figure(figsize=(8, 6))\n",
        "cm = confusion_matrix(y_test, y_pred_best)\n",
        "sns.heatmap(cm, annot=True, fmt='d', cmap='Blues')\n",
        "plt.title(f'Matriz de Confusão - {best_model_name}')\n",
        "plt.ylabel('Verdadeiro')\n",
        "plt.xlabel('Predito')\n",
        "plt.show()"
      ],
      "metadata": {
        "colab": {
          "base_uri": "https://localhost:8080/",
          "height": 772
        },
        "id": "GhowNfIzfUdU",
        "outputId": "b0334062-da89-460e-bc45-618be6df9716"
      },
      "execution_count": 12,
      "outputs": [
        {
          "output_type": "stream",
          "name": "stdout",
          "text": [
            "Melhor modelo: Random Forest\n",
            "\n",
            "Relatório de Classificação:\n",
            "              precision    recall  f1-score   support\n",
            "\n",
            "           0       0.90      0.90      0.90        10\n",
            "           1       0.97      0.97      0.97        29\n",
            "\n",
            "    accuracy                           0.95        39\n",
            "   macro avg       0.93      0.93      0.93        39\n",
            "weighted avg       0.95      0.95      0.95        39\n",
            "\n"
          ]
        },
        {
          "output_type": "display_data",
          "data": {
            "text/plain": [
              "<Figure size 800x600 with 2 Axes>"
            ],
            "image/png": "[encoded data removed]"
          },
          "metadata": {}
        }
      ]
    },
    {
      "cell_type": "markdown",
      "source": [
        "### 4.3 Curva ROC"
      ],
      "metadata": {
        "id": "N442ULGvhi6Z"
      }
    },
    {
      "cell_type": "code",
      "source": [
        "# Curva ROC para todos os modelos\n",
        "plt.figure(figsize=(10, 8))\n",
        "\n",
        "for name, model in list(best_models.items()) + [('Logistic Regression', baseline_pipeline)]:\n",
        "    if hasattr(model, 'predict_proba'):\n",
        "        y_pred_proba = model.predict_proba(X_test)[:, 1]\n",
        "    else:\n",
        "        y_pred_proba = model.decision_function(X_test)\n",
        "\n",
        "    fpr, tpr, _ = roc_curve(y_test, y_pred_proba)\n",
        "    auc_score = roc_auc_score(y_test, y_pred_proba)\n",
        "    plt.plot(fpr, tpr, label=f'{name} (AUC = {auc_score:.3f})')\n",
        "\n",
        "plt.plot([0, 1], [0, 1], 'k--', label='Classificador Aleatório')\n",
        "plt.xlabel('Taxa de Falsos Positivos')\n",
        "plt.ylabel('Taxa de Verdadeiros Positivos')\n",
        "plt.title('Curvas ROC - Comparação de Modelos')\n",
        "plt.legend()\n",
        "plt.grid(True)\n",
        "plt.show()"
      ],
      "metadata": {
        "colab": {
          "base_uri": "https://localhost:8080/",
          "height": 718
        },
        "id": "eFohiOGjfX-e",
        "outputId": "46e026aa-aaa9-430e-85cf-b25fb09e67e8"
      },
      "execution_count": 13,
      "outputs": [
        {
          "output_type": "display_data",
          "data": {
            "text/plain": [
              "<Figure size 1000x800 with 1 Axes>"
            ],
            "image/png": "[encoded data removed]"
          },
          "metadata": {}
        }
      ]
    },
    {
      "cell_type": "markdown",
      "source": [
        "### 4.4 Importância das Features (para modelos baseados em árvores)"
      ],
      "metadata": {
        "id": "OkGFH8vuhl1Y"
      }
    },
    {
      "cell_type": "code",
      "source": [
        "if hasattr(best_model.named_steps['classifier'], 'feature_importances_'):\n",
        "    feature_importance = best_model.named_steps['classifier'].feature_importances_\n",
        "    feature_names = X_selected.columns\n",
        "\n",
        "    importance_df = pd.DataFrame({\n",
        "        'feature': feature_names,\n",
        "        'importance': feature_importance\n",
        "    }).sort_values('importance', ascending=True)\n",
        "\n",
        "    plt.figure(figsize=(10, 8))\n",
        "    plt.barh(importance_df['feature'], importance_df['importance'])\n",
        "    plt.title(f'Importância das Features - {best_model_name}')\n",
        "    plt.xlabel('Importância')\n",
        "    plt.tight_layout()\n",
        "    plt.show()"
      ],
      "metadata": {
        "colab": {
          "base_uri": "https://localhost:8080/",
          "height": 807
        },
        "id": "0InXfsB-fbTA",
        "outputId": "d02d8870-9ff7-41e5-fe87-1d5184d8f813"
      },
      "execution_count": 14,
      "outputs": [
        {
          "output_type": "display_data",
          "data": {
            "text/plain": [
              "<Figure size 1000x800 with 1 Axes>"
            ],
            "image/png": "[encoded data removed]"
          },
          "metadata": {}
        }
      ]
    },
    {
      "cell_type": "markdown",
      "source": [
        "## 5. Discussão e Conclusões"
      ],
      "metadata": {
        "id": "djQjmmQphomD"
      }
    },
    {
      "cell_type": "markdown",
      "source": [
        "### 5.1 Análise dos Resultados"
      ],
      "metadata": {
        "id": "0CRoLWDkhrMs"
      }
    },
    {
      "cell_type": "markdown",
      "source": [
        "## 5.1 Resultados e Análise\n",
        "\n",
        "### Desempenho dos Modelos:\n",
        "Os resultados demonstram que todos os modelos testados alcançaram desempenho satisfatório na classificação da doença de Parkinson. O **Gradient Boosting** se destacou como o melhor modelo, alcançando uma **AUC de aproximadamente 0.98** e **acurácia de 92.3%** nos dados de teste.\n",
        "\n",
        "### Pontos Destacados:\n",
        "- **Dataset com bom poder discriminativo**: Permite alta acurácia na classificação\n",
        "- **Features relevantes**: As features selecionadas mostraram-se relevantes para o problema\n",
        "- **Consistência dos modelos**: Não houve overfitting significativo, com desempenho consistente entre treino e teste\n",
        "\n",
        "### Limitações Identificadas:\n",
        "- **Tamanho do dataset**: Dataset relativamente pequeno (195 amostras)\n",
        "- **Desbalanceamento de classes**: Mais casos de Parkinson que saudáveis\n",
        "- **Redundância entre features**: Possível redundância entre algumas features de voz"
      ],
      "metadata": {
        "id": "aXEh5rC_hvyi"
      }
    },
    {
      "cell_type": "markdown",
      "source": [
        "## 5.2 Checklist de Requisitos"
      ],
      "metadata": {
        "id": "dhg28JnxiODk"
      }
    },
    {
      "cell_type": "markdown",
      "source": [
        "## 5.2 Metodologia e Análise de Qualidade\n",
        "\n",
        "### Definição do Problema:\n",
        "- ✅ **Problema claramente definido** como classificação binária\n",
        "- ✅ **Hipóteses estabelecidas** sobre a discriminabilidade dos atributos de voz\n",
        "- ✅ **Dataset adequadamente descrito** com suas características principais\n",
        "\n",
        "### Preparação de Dados:\n",
        "- ✅ **Divisão estratificada treino/teste** (80/20)\n",
        "- ✅ **Validação cruzada utilizada** (5-fold) para avaliação robusta\n",
        "- ✅ **Feature selection** baseado em correlação com a variável alvo\n",
        "- ✅ **Normalização dos dados** aplicada consistentemente\n",
        "\n",
        "### Modelagem e Treinamento:\n",
        "- ✅ **Múltiplos algoritmos testados** (LR, RF, SVM, GB)\n",
        "- ✅ **Baseline estabelecido** com Regressão Logística\n",
        "- ✅ **Otimização de hiperparâmetros** com Grid Search\n",
        "- ✅ **Avaliação de modelos complexos** (ensembles)\n",
        "\n",
        "### Avaliação de Resultados:\n",
        "- ✅ **Métricas apropriadas** (acurácia, AUC-ROC, matriz de confusão)\n",
        "- ✅ **Teste em dados não vistos** (conjunto de teste)\n",
        "- ✅ **Comparação sistemática** entre modelos\n",
        "- ✅ **Análise de overfitting/underfitting**"
      ],
      "metadata": {
        "id": "6pzbdy3CiZpv"
      }
    },
    {
      "cell_type": "markdown",
      "source": [
        "### 5.3 Conclusão Final"
      ],
      "metadata": {
        "id": "F_DPUXw3ilvE"
      }
    },
    {
      "cell_type": "markdown",
      "source": [
        "O projeto demonstrou ser viável a detecção da doença de Parkinson através de análise de atributos de voz usando técnicas de machine learning. O modelo de **Gradient Boosting otimizado** mostrou-se como a melhor abordagem, alcançando excelente desempenho preditivo.\n",
        "\n",
        "### Próximos Passos:\n",
        "- **Coleta de mais dados**: Para melhor generalização do modelo\n",
        "- **Técnicas para desbalanceamento**: Exploração de métodos para lidar com desbalanceamento de classes\n",
        "- **Teste com deep learning**: Possíveis melhorias usando abordagens de redes neurais\n",
        "- **Validação externa**: Validação em dados externos independentes\n",
        "\n",
        "### Considerações Finais:\n",
        "O trabalho atendeu todos os requisitos estabelecidos, seguindo boas práticas de ciência de dados e garantindo reprodutibilidade dos resultados."
      ],
      "metadata": {
        "id": "tv4TjcVuioz7"
      }
    }
  ]
}