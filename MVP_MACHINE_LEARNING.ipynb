{
  "nbformat": 4,
  "nbformat_minor": 0,
  "metadata": {
    "colab": {
      "provenance": []
    },
    "kernelspec": {
      "name": "python3",
      "display_name": "Python 3"
    },
    "language_info": {
      "name": "python"
    }
  },
  "cells": [
    {
      "cell_type": "markdown",
      "metadata": {
        "id": "view-in-github",
        "colab_type": "text"
      },
      "source": [
        "<a href=\"https://colab.research.google.com/drive/1nybCcVo1bU6lMMX20BIbOQm9afNSifMO#scrollTo=6pzbdy3CiZpv"
     ] 
    {
      "cell_type": "markdown",
      "source": [
        "# Projeto de Machine Learning: Classificação de Parkinson\n",
        "\n",
        "## 1. Definição do Problema\n",
        "\n",
        "### 1.1 Contexto e Objetivo\n",
        "Este projeto tem como objetivo desenvolver um modelo de machine learning para classificação da doença de Parkinson com base em medidas de voz. A doença de Parkinson é um distúrbio neurodegenerativo que afeta o movimento, e alterações na voz são um dos sintomas precoces mais comuns.\n",
        "\n",
        "**Problema**: Classificação binária para detectar a presença da doença de Parkinson a partir de atributos de voz.\n",
        "\n",
        "**Hipóteses**:\n",
        "- As medidas de voz contêm informações suficientes para distinguir entre indivíduos saudáveis e com Parkinson\n",
        "- Certos atributos de voz são mais discriminativos que outros\n",
        "- Modelos de classificação podem alcançar alta acurácia neste problema\n",
        "\n",
        "### 1.2 Descrição do Dataset\n",
        "O dataset contém 195 registros com 23 atributos biomédicos de voz de 31 indivíduos, sendo 23 com Parkinson.\n",
        "\n",
        "**Características Principais**:\n",
        "- **Total de registros**: 195\n",
        "- **Número de indivíduos**: 31\n",
        "- **Pacientes com Parkinson**: 23\n",
        "- **Atributos**: 23 medidas de voz (Fo, Fhi, Flo, Jitter, Shimmer, etc.)\n",
        "- **Atributo alvo**: status (0 = saudável, 1 = Parkinson)"
      ],
      "metadata": {
        "id": "g5jrIyvggQNo"
      }
    },
    {
      "cell_type": "markdown",
      "source": [
        "## 2. Preparação dos Dados"
      ],
      "metadata": {
        "id": "4hw45XLbgh17"
      }
    },
    {
      "cell_type": "code",
      "source": [
        "import pandas as pd\n",
        "import numpy as np\n",
        "import matplotlib.pyplot as plt\n",
        "import seaborn as sns\n",
        "from sklearn.model_selection import train_test_split, cross_val_score, GridSearchCV\n",
        "from sklearn.preprocessing import StandardScaler, LabelEncoder\n",
        "from sklearn.ensemble import RandomForestClassifier, GradientBoostingClassifier\n",
        "from sklearn.svm import SVC\n",
        "from sklearn.linear_model import LogisticRegression\n",
        "from sklearn.metrics import classification_report, confusion_matrix, roc_auc_score, roc_curve\n",
        "from sklearn.pipeline import Pipeline\n",
        "import warnings\n",
        "warnings.filterwarnings('ignore')\n",
        "\n",
        "# Configurações para reprodutibilidade\n",
        "np.random.seed(42)"
      ],
      "metadata": {
        "id": "OMVvIaYPeaMK"
      },
      "execution_count": 3,
      "outputs": []
    },
    {
      "cell_type": "markdown",
      "source": [
        "### 2.1 Carga dos Dados"
      ],
      "metadata": {
        "id": "e7VaKoR7gygw"
      }
    },
    {
      "cell_type": "code",
      "source": [
        "# Carregando o dataset diretamente da URL\n",
        "url = \"https://archive.ics.uci.edu/ml/machine-learning-databases/parkinsons/parkinsons.data\"\n",
        "df = pd.read_csv(url)\n",
        "\n",
        "print(\"Dimensões do dataset:\", df.shape)\n",
        "print(\"\\nPrimeiras 5 linhas:\")\n",
        "df.head()"
      ],
      "metadata": {
        "colab": {
          "base_uri": "https://localhost:8080/",
          "height": 308
        },
        "id": "-tm5Zm7tecgg",
        "outputId": "4ab272b6-2faa-459b-cf78-3fb3f2f3a8cd"
      },
      "execution_count": 4,
      "outputs": [
        {
          "output_type": "stream",
          "name": "stdout",
          "text": [
            "Dimensões do dataset: (195, 24)\n",
            "\n",
            "Primeiras 5 linhas:\n"
          ]
        },
        {
          "output_type": "execute_result",
          "data": {
            "text/plain": [
              "             name  MDVP:Fo(Hz)  MDVP:Fhi(Hz)  MDVP:Flo(Hz)  MDVP:Jitter(%)  \\\n",
              "0  phon_R01_S01_1      119.992       157.302        74.997         0.00784   \n",
              "1  phon_R01_S01_2      122.400       148.650       113.819         0.00968   \n",
              "2  phon_R01_S01_3      116.682       131.111       111.555         0.01050   \n",
              "3  phon_R01_S01_4      116.676       137.871       111.366         0.00997   \n",
              "4  phon_R01_S01_5      116.014       141.781       110.655         0.01284   \n",
              "\n",
              "   MDVP:Jitter(Abs)  MDVP:RAP  MDVP:PPQ  Jitter:DDP  MDVP:Shimmer  ...  \\\n",
              "0           0.00007   0.00370   0.00554     0.01109       0.04374  ...   \n",
              "1           0.00008   0.00465   0.00696     0.01394       0.06134  ...   \n",
              "2           0.00009   0.00544   0.00781     0.01633       0.05233  ...   \n",
              "3           0.00009   0.00502   0.00698     0.01505       0.05492  ...   \n",
              "4           0.00011   0.00655   0.00908     0.01966       0.06425  ...   \n",
              "\n",
              "   Shimmer:DDA      NHR     HNR  status      RPDE       DFA   spread1  \\\n",
              "0      0.06545  0.02211  21.033       1  0.414783  0.815285 -4.813031   \n",
              "1      0.09403  0.01929  19.085       1  0.458359  0.819521 -4.075192   \n",
              "2      0.08270  0.01309  20.651       1  0.429895  0.825288 -4.443179   \n",
              "3      0.08771  0.01353  20.644       1  0.434969  0.819235 -4.117501   \n",
              "4      0.10470  0.01767  19.649       1  0.417356  0.823484 -3.747787   \n",
              "\n",
              "    spread2        D2       PPE  \n",
              "0  0.266482  2.301442  0.284654  \n",
              "1  0.335590  2.486855  0.368674  \n",
              "2  0.311173  2.342259  0.332634  \n",
              "3  0.334147  2.405554  0.368975  \n",
              "4  0.234513  2.332180  0.410335  \n",
              "\n",
              "[5 rows x 24 columns]"
            ],
            "text/html": [
              "\n",
              "  <div id=\"df-5ebf51e1-f8f1-4a4a-aee5-bf03725a7bbb\" class=\"colab-df-container\">\n",
              "    <div>\n",
              "<style scoped>\n",
              "    .dataframe tbody tr th:only-of-type {\n",
              "        vertical-align: middle;\n",
              "    }\n",
              "\n",
              "    .dataframe tbody tr th {\n",
              "        vertical-align: top;\n",
              "    }\n",
              "\n",
              "    .dataframe thead th {\n",
              "        text-align: right;\n",
              "    }\n",
              "</style>\n",
              "<table border=\"1\" class=\"dataframe\">\n",
              "  <thead>\n",
              "    <tr style=\"text-align: right;\">\n",
              "      <th></th>\n",
              "      <th>name</th>\n",
              "      <th>MDVP:Fo(Hz)</th>\n",
              "      <th>MDVP:Fhi(Hz)</th>\n",
              "      <th>MDVP:Flo(Hz)</th>\n",
              "      <th>MDVP:Jitter(%)</th>\n",
              "      <th>MDVP:Jitter(Abs)</th>\n",
              "      <th>MDVP:RAP</th>\n",
              "      <th>MDVP:PPQ</th>\n",
              "      <th>Jitter:DDP</th>\n",
              "      <th>MDVP:Shimmer</th>\n",
              "      <th>...</th>\n",
              "      <th>Shimmer:DDA</th>\n",
              "      <th>NHR</th>\n",
              "      <th>HNR</th>\n",
              "      <th>status</th>\n",
              "      <th>RPDE</th>\n",
              "      <th>DFA</th>\n",
              "      <th>spread1</th>\n",
              "      <th>spread2</th>\n",
              "      <th>D2</th>\n",
              "      <th>PPE</th>\n",
              "    </tr>\n",
              "  </thead>\n",
              "  <tbody>\n",
              "    <tr>\n",
              "      <th>0</th>\n",
              "      <td>phon_R01_S01_1</td>\n",
              "      <td>119.992</td>\n",
              "      <td>157.302</td>\n",
              "      <td>74.997</td>\n",
              "      <td>0.00784</td>\n",
              "      <td>0.00007</td>\n",
              "      <td>0.00370</td>\n",
              "      <td>0.00554</td>\n",
              "      <td>0.01109</td>\n",
              "      <td>0.04374</td>\n",
              "      <td>...</td>\n",
              "      <td>0.06545</td>\n",
              "      <td>0.02211</td>\n",
              "      <td>21.033</td>\n",
              "      <td>1</td>\n",
              "      <td>0.414783</td>\n",
              "      <td>0.815285</td>\n",
              "      <td>-4.813031</td>\n",
              "      <td>0.266482</td>\n",
              "      <td>2.301442</td>\n",
              "      <td>0.284654</td>\n",
              "    </tr>\n",
              "    <tr>\n",
              "      <th>1</th>\n",
              "      <td>phon_R01_S01_2</td>\n",
              "      <td>122.400</td>\n",
              "      <td>148.650</td>\n",
              "      <td>113.819</td>\n",
              "      <td>0.00968</td>\n",
              "      <td>0.00008</td>\n",
              "      <td>0.00465</td>\n",
              "      <td>0.00696</td>\n",
              "      <td>0.01394</td>\n",
              "      <td>0.06134</td>\n",
              "      <td>...</td>\n",
              "      <td>0.09403</td>\n",
              "      <td>0.01929</td>\n",
              "      <td>19.085</td>\n",
              "      <td>1</td>\n",
              "      <td>0.458359</td>\n",
              "      <td>0.819521</td>\n",
              "      <td>-4.075192</td>\n",
              "      <td>0.335590</td>\n",
              "      <td>2.486855</td>\n",
              "      <td>0.368674</td>\n",
              "    </tr>\n",
              "    <tr>\n",
              "      <th>2</th>\n",
              "      <td>phon_R01_S01_3</td>\n",
              "      <td>116.682</td>\n",
              "      <td>131.111</td>\n",
              "      <td>111.555</td>\n",
              "      <td>0.01050</td>\n",
              "      <td>0.00009</td>\n",
              "      <td>0.00544</td>\n",
              "      <td>0.00781</td>\n",
              "      <td>0.01633</td>\n",
              "      <td>0.05233</td>\n",
              "      <td>...</td>\n",
              "      <td>0.08270</td>\n",
              "      <td>0.01309</td>\n",
              "      <td>20.651</td>\n",
              "      <td>1</td>\n",
              "      <td>0.429895</td>\n",
              "      <td>0.825288</td>\n",
              "      <td>-4.443179</td>\n",
              "      <td>0.311173</td>\n",
              "      <td>2.342259</td>\n",
              "      <td>0.332634</td>\n",
              "    </tr>\n",
              "    <tr>\n",
              "      <th>3</th>\n",
              "      <td>phon_R01_S01_4</td>\n",
              "      <td>116.676</td>\n",
              "      <td>137.871</td>\n",
              "      <td>111.366</td>\n",
              "      <td>0.00997</td>\n",
              "      <td>0.00009</td>\n",
              "      <td>0.00502</td>\n",
              "      <td>0.00698</td>\n",
              "      <td>0.01505</td>\n",
              "      <td>0.05492</td>\n",
              "      <td>...</td>\n",
              "      <td>0.08771</td>\n",
              "      <td>0.01353</td>\n",
              "      <td>20.644</td>\n",
              "      <td>1</td>\n",
              "      <td>0.434969</td>\n",
              "      <td>0.819235</td>\n",
              "      <td>-4.117501</td>\n",
              "      <td>0.334147</td>\n",
              "      <td>2.405554</td>\n",
              "      <td>0.368975</td>\n",
              "    </tr>\n",
              "    <tr>\n",
              "      <th>4</th>\n",
              "      <td>phon_R01_S01_5</td>\n",
              "      <td>116.014</td>\n",
              "      <td>141.781</td>\n",
              "      <td>110.655</td>\n",
              "      <td>0.01284</td>\n",
              "      <td>0.00011</td>\n",
              "      <td>0.00655</td>\n",
              "      <td>0.00908</td>\n",
              "      <td>0.01966</td>\n",
              "      <td>0.06425</td>\n",
              "      <td>...</td>\n",
              "      <td>0.10470</td>\n",
              "      <td>0.01767</td>\n",
              "      <td>19.649</td>\n",
              "      <td>1</td>\n",
              "      <td>0.417356</td>\n",
              "      <td>0.823484</td>\n",
              "      <td>-3.747787</td>\n",
              "      <td>0.234513</td>\n",
              "      <td>2.332180</td>\n",
              "      <td>0.410335</td>\n",
              "    </tr>\n",
              "  </tbody>\n",
              "</table>\n",
              "<p>5 rows × 24 columns</p>\n",
              "</div>\n",
              "    <div class=\"colab-df-buttons\">\n",
              "\n",
              "  <div class=\"colab-df-container\">\n",
              "    <button class=\"colab-df-convert\" onclick=\"convertToInteractive('df-5ebf51e1-f8f1-4a4a-aee5-bf03725a7bbb')\"\n",
              "            title=\"Convert this dataframe to an interactive table.\"\n",
              "            style=\"display:none;\">\n",
              "\n",
              "  <svg xmlns=\"http://www.w3.org/2000/svg\" height=\"24px\" viewBox=\"0 -960 960 960\">\n",
              "    <path d=\"M120-120v-720h720v720H120Zm60-500h600v-160H180v160Zm220 220h160v-160H400v160Zm0 220h160v-160H400v160ZM180-400h160v-160H180v160Zm440 0h160v-160H620v160ZM180-180h160v-160H180v160Zm440 0h160v-160H620v160Z\"/>\n",
              "  </svg>\n",
              "    </button>\n",
              "\n",
              "  <style>\n",
              "    .colab-df-container {\n",
              "      display:flex;\n",
              "      gap: 12px;\n",
              "    }\n",
              "\n",
              "    .colab-df-convert {\n",
              "      background-color: #E8F0FE;\n",
              "      border: none;\n",
              "      border-radius: 50%;\n",
              "      cursor: pointer;\n",
              "      display: none;\n",
              "      fill: #1967D2;\n",
              "      height: 32px;\n",
              "      padding: 0 0 0 0;\n",
              "      width: 32px;\n",
              "    }\n",
              "\n",
              "    .colab-df-convert:hover {\n",
              "      background-color: #E2EBFA;\n",
              "      box-shadow: 0px 1px 2px rgba(60, 64, 67, 0.3), 0px 1px 3px 1px rgba(60, 64, 67, 0.15);\n",
              "      fill: #174EA6;\n",
              "    }\n",
              "\n",
              "    .colab-df-buttons div {\n",
              "      margin-bottom: 4px;\n",
              "    }\n",
              "\n",
              "    [theme=dark] .colab-df-convert {\n",
              "      background-color: #3B4455;\n",
              "      fill: #D2E3FC;\n",
              "    }\n",
              "\n",
              "    [theme=dark] .colab-df-convert:hover {\n",
              "      background-color: #434B5C;\n",
              "      box-shadow: 0px 1px 3px 1px rgba(0, 0, 0, 0.15);\n",
              "      filter: drop-shadow(0px 1px 2px rgba(0, 0, 0, 0.3));\n",
              "      fill: #FFFFFF;\n",
              "    }\n",
              "  </style>\n",
              "\n",
              "    <script>\n",
              "      const buttonEl =\n",
              "        document.querySelector('#df-5ebf51e1-f8f1-4a4a-aee5-bf03725a7bbb button.colab-df-convert');\n",
              "      buttonEl.style.display =\n",
              "        google.colab.kernel.accessAllowed ? 'block' : 'none';\n",
              "\n",
              "      async function convertToInteractive(key) {\n",
              "        const element = document.querySelector('#df-5ebf51e1-f8f1-4a4a-aee5-bf03725a7bbb');\n",
              "        const dataTable =\n",
              "          await google.colab.kernel.invokeFunction('convertToInteractive',\n",
              "                                                    [key], {});\n",
              "        if (!dataTable) return;\n",
              "\n",
              "        const docLinkHtml = 'Like what you see? Visit the ' +\n",
              "          '<a target=\"_blank\" href=https://colab.research.google.com/notebooks/data_table.ipynb>data table notebook</a>'\n",
              "          + ' to learn more about interactive tables.';\n",
              "        element.innerHTML = '';\n",
              "        dataTable['output_type'] = 'display_data';\n",
              "        await google.colab.output.renderOutput(dataTable, element);\n",
              "        const docLink = document.createElement('div');\n",
              "        docLink.innerHTML = docLinkHtml;\n",
              "        element.appendChild(docLink);\n",
              "      }\n",
              "    </script>\n",
              "  </div>\n",
              "\n",
              "\n",
              "    <div id=\"df-1ceee03f-94dc-4c22-95be-b36262538f73\">\n",
              "      <button class=\"colab-df-quickchart\" onclick=\"quickchart('df-1ceee03f-94dc-4c22-95be-b36262538f73')\"\n",
              "                title=\"Suggest charts\"\n",
              "                style=\"display:none;\">\n",
              "\n",
              "<svg xmlns=\"http://www.w3.org/2000/svg\" height=\"24px\"viewBox=\"0 0 24 24\"\n",
              "     width=\"24px\">\n",
              "    <g>\n",
              "        <path d=\"M19 3H5c-1.1 0-2 .9-2 2v14c0 1.1.9 2 2 2h14c1.1 0 2-.9 2-2V5c0-1.1-.9-2-2-2zM9 17H7v-7h2v7zm4 0h-2V7h2v10zm4 0h-2v-4h2v4z\"/>\n",
              "    </g>\n",
              "</svg>\n",
              "      </button>\n",
              "\n",
              "<style>\n",
              "  .colab-df-quickchart {\n",
              "      --bg-color: #E8F0FE;\n",
              "      --fill-color: #1967D2;\n",
              "      --hover-bg-color: #E2EBFA;\n",
              "      --hover-fill-color: #174EA6;\n",
              "      --disabled-fill-color: #AAA;\n",
              "      --disabled-bg-color: #DDD;\n",
              "  }\n",
              "\n",
              "  [theme=dark] .colab-df-quickchart {\n",
              "      --bg-color: #3B4455;\n",
              "      --fill-color: #D2E3FC;\n",
              "      --hover-bg-color: #434B5C;\n",
              "      --hover-fill-color: #FFFFFF;\n",
              "      --disabled-bg-color: #3B4455;\n",
              "      --disabled-fill-color: #666;\n",
              "  }\n",
              "\n",
              "  .colab-df-quickchart {\n",
              "    background-color: var(--bg-color);\n",
              "    border: none;\n",
              "    border-radius: 50%;\n",
              "    cursor: pointer;\n",
              "    display: none;\n",
              "    fill: var(--fill-color);\n",
              "    height: 32px;\n",
              "    padding: 0;\n",
              "    width: 32px;\n",
              "  }\n",
              "\n",
              "  .colab-df-quickchart:hover {\n",
              "    background-color: var(--hover-bg-color);\n",
              "    box-shadow: 0 1px 2px rgba(60, 64, 67, 0.3), 0 1px 3px 1px rgba(60, 64, 67, 0.15);\n",
              "    fill: var(--button-hover-fill-color);\n",
              "  }\n",
              "\n",
              "  .colab-df-quickchart-complete:disabled,\n",
              "  .colab-df-quickchart-complete:disabled:hover {\n",
              "    background-color: var(--disabled-bg-color);\n",
              "    fill: var(--disabled-fill-color);\n",
              "    box-shadow: none;\n",
              "  }\n",
              "\n",
              "  .colab-df-spinner {\n",
              "    border: 2px solid var(--fill-color);\n",
              "    border-color: transparent;\n",
              "    border-bottom-color: var(--fill-color);\n",
              "    animation:\n",
              "      spin 1s steps(1) infinite;\n",
              "  }\n",
              "\n",
              "  @keyframes spin {\n",
              "    0% {\n",
              "      border-color: transparent;\n",
              "      border-bottom-color: var(--fill-color);\n",
              "      border-left-color: var(--fill-color);\n",
              "    }\n",
              "    20% {\n",
              "      border-color: transparent;\n",
              "      border-left-color: var(--fill-color);\n",
              "      border-top-color: var(--fill-color);\n",
              "    }\n",
              "    30% {\n",
              "      border-color: transparent;\n",
              "      border-left-color: var(--fill-color);\n",
              "      border-top-color: var(--fill-color);\n",
              "      border-right-color: var(--fill-color);\n",
              "    }\n",
              "    40% {\n",
              "      border-color: transparent;\n",
              "      border-right-color: var(--fill-color);\n",
              "      border-top-color: var(--fill-color);\n",
              "    }\n",
              "    60% {\n",
              "      border-color: transparent;\n",
              "      border-right-color: var(--fill-color);\n",
              "    }\n",
              "    80% {\n",
              "      border-color: transparent;\n",
              "      border-right-color: var(--fill-color);\n",
              "      border-bottom-color: var(--fill-color);\n",
              "    }\n",
              "    90% {\n",
              "      border-color: transparent;\n",
              "      border-bottom-color: var(--fill-color);\n",
              "    }\n",
              "  }\n",
              "</style>\n",
              "\n",
              "      <script>\n",
              "        async function quickchart(key) {\n",
              "          const quickchartButtonEl =\n",
              "            document.querySelector('#' + key + ' button');\n",
              "          quickchartButtonEl.disabled = true;  // To prevent multiple clicks.\n",
              "          quickchartButtonEl.classList.add('colab-df-spinner');\n",
              "          try {\n",
              "            const charts = await google.colab.kernel.invokeFunction(\n",
              "                'suggestCharts', [key], {});\n",
              "          } catch (error) {\n",
              "            console.error('Error during call to suggestCharts:', error);\n",
              "          }\n",
              "          quickchartButtonEl.classList.remove('colab-df-spinner');\n",
              "          quickchartButtonEl.classList.add('colab-df-quickchart-complete');\n",
              "        }\n",
              "        (() => {\n",
              "          let quickchartButtonEl =\n",
              "            document.querySelector('#df-1ceee03f-94dc-4c22-95be-b36262538f73 button');\n",
              "          quickchartButtonEl.style.display =\n",
              "            google.colab.kernel.accessAllowed ? 'block' : 'none';\n",
              "        })();\n",
              "      </script>\n",
              "    </div>\n",
              "\n",
              "    </div>\n",
              "  </div>\n"
            ],
            "application/vnd.google.colaboratory.intrinsic+json": {
              "type": "dataframe",
              "variable_name": "df"
            }
          },
          "metadata": {},
          "execution_count": 4
        }
      ]
    },
    {
      "cell_type": "markdown",
      "source": [
        "### 2.2 Análise Exploratória Inicial"
      ],
      "metadata": {
        "id": "8AxkBNSfg22E"
      }
    },
    {
      "cell_type": "code",
      "source": [
        "# Informações básicas sobre o dataset\n",
        "print(\"Informações do dataset:\")\n",
        "print(df.info())\n",
        "print(\"\\nEstatísticas descritivas:\")\n",
        "print(df.describe())\n",
        "\n",
        "# Verificando valores missing\n",
        "print(\"\\nValores missing por coluna:\")\n",
        "print(df.isnull().sum())"
      ],
      "metadata": {
        "colab": {
          "base_uri": "https://localhost:8080/"
        },
        "id": "5HAI0vEoegkX",
        "outputId": "0a6bf7d8-e744-4ec3-dab0-0a2cae33ddf1"
      },
      "execution_count": 5,
      "outputs": [
        {
          "output_type": "stream",
          "name": "stdout",
          "text": [
            "Informações do dataset:\n",
            "<class 'pandas.core.frame.DataFrame'>\n",
            "RangeIndex: 195 entries, 0 to 194\n",
            "Data columns (total 24 columns):\n",
            " #   Column            Non-Null Count  Dtype  \n",
            "---  ------            --------------  -----  \n",
            " 0   name              195 non-null    object \n",
            " 1   MDVP:Fo(Hz)       195 non-null    float64\n",
            " 2   MDVP:Fhi(Hz)      195 non-null    float64\n",
            " 3   MDVP:Flo(Hz)      195 non-null    float64\n",
            " 4   MDVP:Jitter(%)    195 non-null    float64\n",
            " 5   MDVP:Jitter(Abs)  195 non-null    float64\n",
            " 6   MDVP:RAP          195 non-null    float64\n",
            " 7   MDVP:PPQ          195 non-null    float64\n",
            " 8   Jitter:DDP        195 non-null    float64\n",
            " 9   MDVP:Shimmer      195 non-null    float64\n",
            " 10  MDVP:Shimmer(dB)  195 non-null    float64\n",
            " 11  Shimmer:APQ3      195 non-null    float64\n",
            " 12  Shimmer:APQ5      195 non-null    float64\n",
            " 13  MDVP:APQ          195 non-null    float64\n",
            " 14  Shimmer:DDA       195 non-null    float64\n",
            " 15  NHR               195 non-null    float64\n",
            " 16  HNR               195 non-null    float64\n",
            " 17  status            195 non-null    int64  \n",
            " 18  RPDE              195 non-null    float64\n",
            " 19  DFA               195 non-null    float64\n",
            " 20  spread1           195 non-null    float64\n",
            " 21  spread2           195 non-null    float64\n",
            " 22  D2                195 non-null    float64\n",
            " 23  PPE               195 non-null    float64\n",
            "dtypes: float64(22), int64(1), object(1)\n",
            "memory usage: 36.7+ KB\n",
            "None\n",
            "\n",
            "Estatísticas descritivas:\n",
            "       MDVP:Fo(Hz)  MDVP:Fhi(Hz)  MDVP:Flo(Hz)  MDVP:Jitter(%)  \\\n",
            "count   195.000000    195.000000    195.000000      195.000000   \n",
            "mean    154.228641    197.104918    116.324631        0.006220   \n",
            "std      41.390065     91.491548     43.521413        0.004848   \n",
            "min      88.333000    102.145000     65.476000        0.001680   \n",
            "25%     117.572000    134.862500     84.291000        0.003460   \n",
            "50%     148.790000    175.829000    104.315000        0.004940   \n",
            "75%     182.769000    224.205500    140.018500        0.007365   \n",
            "max     260.105000    592.030000    239.170000        0.033160   \n",
            "\n",
            "       MDVP:Jitter(Abs)    MDVP:RAP    MDVP:PPQ  Jitter:DDP  MDVP:Shimmer  \\\n",
            "count        195.000000  195.000000  195.000000  195.000000    195.000000   \n",
            "mean           0.000044    0.003306    0.003446    0.009920      0.029709   \n",
            "std            0.000035    0.002968    0.002759    0.008903      0.018857   \n",
            "min            0.000007    0.000680    0.000920    0.002040      0.009540   \n",
            "25%            0.000020    0.001660    0.001860    0.004985      0.016505   \n",
            "50%            0.000030    0.002500    0.002690    0.007490      0.022970   \n",
            "75%            0.000060    0.003835    0.003955    0.011505      0.037885   \n",
            "max            0.000260    0.021440    0.019580    0.064330      0.119080   \n",
            "\n",
            "       MDVP:Shimmer(dB)  ...  Shimmer:DDA         NHR         HNR      status  \\\n",
            "count        195.000000  ...   195.000000  195.000000  195.000000  195.000000   \n",
            "mean           0.282251  ...     0.046993    0.024847   21.885974    0.753846   \n",
            "std            0.194877  ...     0.030459    0.040418    4.425764    0.431878   \n",
            "min            0.085000  ...     0.013640    0.000650    8.441000    0.000000   \n",
            "25%            0.148500  ...     0.024735    0.005925   19.198000    1.000000   \n",
            "50%            0.221000  ...     0.038360    0.011660   22.085000    1.000000   \n",
            "75%            0.350000  ...     0.060795    0.025640   25.075500    1.000000   \n",
            "max            1.302000  ...     0.169420    0.314820   33.047000    1.000000   \n",
            "\n",
            "             RPDE         DFA     spread1     spread2          D2         PPE  \n",
            "count  195.000000  195.000000  195.000000  195.000000  195.000000  195.000000  \n",
            "mean     0.498536    0.718099   -5.684397    0.226510    2.381826    0.206552  \n",
            "std      0.103942    0.055336    1.090208    0.083406    0.382799    0.090119  \n",
            "min      0.256570    0.574282   -7.964984    0.006274    1.423287    0.044539  \n",
            "25%      0.421306    0.674758   -6.450096    0.174351    2.099125    0.137451  \n",
            "50%      0.495954    0.722254   -5.720868    0.218885    2.361532    0.194052  \n",
            "75%      0.587562    0.761881   -5.046192    0.279234    2.636456    0.252980  \n",
            "max      0.685151    0.825288   -2.434031    0.450493    3.671155    0.527367  \n",
            "\n",
            "[8 rows x 23 columns]\n",
            "\n",
            "Valores missing por coluna:\n",
            "name                0\n",
            "MDVP:Fo(Hz)         0\n",
            "MDVP:Fhi(Hz)        0\n",
            "MDVP:Flo(Hz)        0\n",
            "MDVP:Jitter(%)      0\n",
            "MDVP:Jitter(Abs)    0\n",
            "MDVP:RAP            0\n",
            "MDVP:PPQ            0\n",
            "Jitter:DDP          0\n",
            "MDVP:Shimmer        0\n",
            "MDVP:Shimmer(dB)    0\n",
            "Shimmer:APQ3        0\n",
            "Shimmer:APQ5        0\n",
            "MDVP:APQ            0\n",
            "Shimmer:DDA         0\n",
            "NHR                 0\n",
            "HNR                 0\n",
            "status              0\n",
            "RPDE                0\n",
            "DFA                 0\n",
            "spread1             0\n",
            "spread2             0\n",
            "D2                  0\n",
            "PPE                 0\n",
            "dtype: int64\n"
          ]
        }
      ]
    },
    {
      "cell_type": "markdown",
      "source": [
        "### 2.3 Análise da Distribuição da Variável Alvo"
      ],
      "metadata": {
        "id": "EHohRQLog8Wi"
      }
    },
    {
      "cell_type": "code",
      "source": [
        "# Distribuição da variável alvo\n",
        "plt.figure(figsize=(8, 6))\n",
        "target_counts = df['status'].value_counts()\n",
        "plt.bar(['Saudável (0)', 'Parkinson (1)'], target_counts.values, color=['lightblue', 'lightcoral'])\n",
        "plt.title('Distribuição da Variável Alvo')\n",
        "plt.ylabel('Quantidade')\n",
        "plt.text(0, target_counts[0]//2, f'{target_counts[0]}', ha='center', va='center', fontsize=12, fontweight='bold')\n",
        "plt.text(1, target_counts[1]//2, f'{target_counts[1]}', ha='center', va='center', fontsize=12, fontweight='bold')\n",
        "plt.show()\n",
        "\n",
        "print(f\"Proporção Parkinson: {target_counts[1]/len(df):.2%}\")\n",
        "print(f\"Proporção Saudável: {target_counts[0]/len(df):.2%}\")"
      ],
      "metadata": {
        "colab": {
          "base_uri": "https://localhost:8080/",
          "height": 578
        },
        "id": "bwOIrnXYej2w",
        "outputId": "9661bf7e-ffed-4796-a529-f056ae6879bd"
      },
      "execution_count": 6,
      "outputs": [
        {
          "output_type": "display_data",
          "data": {
            "text/plain": [
              "<Figure size 800x600 with 1 Axes>"
            ],
            "image/png": "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\n"
          },
          "metadata": {}
        },
        {
          "output_type": "stream",
          "name": "stdout",
          "text": [
            "Proporção Parkinson: 75.38%\n",
            "Proporção Saudável: 24.62%\n"
          ]
        }
      ]
    },
    {
      "cell_type": "markdown",
      "source": [
        "### 2.4 Engenharia de Atributos e Seleção"
      ],
      "metadata": {
        "id": "dmnOlsTZg-27"
      }
    },
    {
      "cell_type": "code",
      "source": [
        "# Removendo coluna 'name' que é identificadora\n",
        "X = df.drop(['name', 'status'], axis=1)\n",
        "y = df['status']\n",
        "\n",
        "# Analisando correlação com a variável alvo\n",
        "correlations = X.corrwith(y).abs().sort_values(ascending=False)\n",
        "print(\"Correlações com a variável alvo:\")\n",
        "print(correlations.head(10))\n",
        "\n",
        "# Selecionando as 10 features mais correlacionadas\n",
        "selected_features = correlations.head(10).index.tolist()\n",
        "X_selected = X[selected_features]\n",
        "\n",
        "print(f\"\\nFeatures selecionadas: {selected_features}\")"
      ],
      "metadata": {
        "colab": {
          "base_uri": "https://localhost:8080/"
        },
        "id": "JtvThq0heojy",
        "outputId": "8fae020c-91a2-475d-dc77-669b181c8d55"
      },
      "execution_count": 7,
      "outputs": [
        {
          "output_type": "stream",
          "name": "stdout",
          "text": [
            "Correlações com a variável alvo:\n",
            "spread1             0.564838\n",
            "PPE                 0.531039\n",
            "spread2             0.454842\n",
            "MDVP:Fo(Hz)         0.383535\n",
            "MDVP:Flo(Hz)        0.380200\n",
            "MDVP:Shimmer        0.367430\n",
            "MDVP:APQ            0.364316\n",
            "HNR                 0.361515\n",
            "Shimmer:APQ5        0.351148\n",
            "MDVP:Shimmer(dB)    0.350697\n",
            "dtype: float64\n",
            "\n",
            "Features selecionadas: ['spread1', 'PPE', 'spread2', 'MDVP:Fo(Hz)', 'MDVP:Flo(Hz)', 'MDVP:Shimmer', 'MDVP:APQ', 'HNR', 'Shimmer:APQ5', 'MDVP:Shimmer(dB)']\n"
          ]
        }
      ]
    },
    {
      "cell_type": "markdown",
      "source": [
        "### 2.5 Divisão dos Dados"
      ],
      "metadata": {
        "id": "9CxmJWOYhBlm"
      }
    },
    {
      "cell_type": "code",
      "source": [
        "# Divisão estratificada para manter a proporção das classes\n",
        "X_train, X_test, y_train, y_test = train_test_split(\n",
        "    X_selected, y, test_size=0.2, random_state=42, stratify=y\n",
        ")\n",
        "\n",
        "print(f\"Tamanho do conjunto de treino: {X_train.shape[0]}\")\n",
        "print(f\"Tamanho do conjunto de teste: {X_test.shape[0]}\")\n",
        "print(f\"Proporção de classes no treino: {np.bincount(y_train)/len(y_train)}\")\n",
        "print(f\"Proporção de classes no teste: {np.bincount(y_test)/len(y_test)}\")"
      ],
      "metadata": {
        "colab": {
          "base_uri": "https://localhost:8080/"
        },
        "id": "blEJgbuPeqry",
        "outputId": "7369946d-bd76-4518-8bbd-836a76f72c4b"
      },
      "execution_count": 8,
      "outputs": [
        {
          "output_type": "stream",
          "name": "stdout",
          "text": [
            "Tamanho do conjunto de treino: 156\n",
            "Tamanho do conjunto de teste: 39\n",
            "Proporção de classes no treino: [0.24358974 0.75641026]\n",
            "Proporção de classes no teste: [0.25641026 0.74358974]\n"
          ]
        }
      ]
    },
    {
      "cell_type": "markdown",
      "source": [
        "## 3. Modelagem"
      ],
      "metadata": {
        "id": "eESNaYsXhJkm"
      }
    },
    {
      "cell_type": "markdown",
      "source": [
        "### 3.1 Baseline Model"
      ],
      "metadata": {
        "id": "yqT0z6eShOoG"
      }
    },
    {
      "cell_type": "code",
      "source": [
        "# Modelo baseline - Regressão Logística\n",
        "baseline_pipeline = Pipeline([\n",
        "    ('scaler', StandardScaler()),\n",
        "    ('classifier', LogisticRegression(random_state=42))\n",
        "])\n",
        "\n",
        "baseline_scores = cross_val_score(baseline_pipeline, X_train, y_train, cv=5, scoring='accuracy')\n",
        "print(f\"Acurácia média do baseline (5-fold CV): {baseline_scores.mean():.4f} (+/- {baseline_scores.std() * 2:.4f})\")"
      ],
      "metadata": {
        "colab": {
          "base_uri": "https://localhost:8080/"
        },
        "id": "aZ2QkrmUeuy3",
        "outputId": "ea087e36-a0ce-4dd8-d5ca-5e9cc86e1c21"
      },
      "execution_count": 9,
      "outputs": [
        {
          "output_type": "stream",
          "name": "stdout",
          "text": [
            "Acurácia média do baseline (5-fold CV): 0.8145 (+/- 0.1216)\n"
          ]
        }
      ]
    },
    {
      "cell_type": "markdown",
      "source": [
        "### 3.2 Definição dos Modelos"
      ],
      "metadata": {
        "id": "HPDuwr5OhSwf"
      }
    },
    {
      "cell_type": "code",
      "source": [
        "# Definindo os modelos a serem testados\n",
        "models = {\n",
        "    'Logistic Regression': Pipeline([\n",
        "        ('scaler', StandardScaler()),\n",
        "        ('classifier', LogisticRegression(random_state=42))\n",
        "    ]),\n",
        "    'Random Forest': Pipeline([\n",
        "        ('scaler', StandardScaler()),\n",
        "        ('classifier', RandomForestClassifier(random_state=42))\n",
        "    ]),\n",
        "    'SVM': Pipeline([\n",
        "        ('scaler', StandardScaler()),\n",
        "        ('classifier', SVC(random_state=42, probability=True))\n",
        "    ]),\n",
        "    'Gradient Boosting': Pipeline([\n",
        "        ('scaler', StandardScaler()),\n",
        "        ('classifier', GradientBoostingClassifier(random_state=42))\n",
        "    ])\n",
        "}"
      ],
      "metadata": {
        "id": "BAbaeK_dexk2"
      },
      "execution_count": 10,
      "outputs": []
    },
    {
      "cell_type": "markdown",
      "source": [
        "### 3.3 Avaliação Inicial dos Modelos"
      ],
      "metadata": {
        "id": "PFghGKbbhVmi"
      }
    },
    {
      "cell_type": "code",
      "source": [
        "# Avaliando todos os modelos com validação cruzada\n",
        "results = {}\n",
        "for name, model in models.items():\n",
        "    cv_scores = cross_val_score(model, X_train, y_train, cv=5, scoring='accuracy')\n",
        "    results[name] = {\n",
        "        'mean_score': cv_scores.mean(),\n",
        "        'std_score': cv_scores.std()\n",
        "    }\n",
        "    print(f\"{name}: {cv_scores.mean():.4f} (+/- {cv_scores.std() * 2:.4f})\")"
      ],
      "metadata": {
        "colab": {
          "base_uri": "https://localhost:8080/"
        },
        "id": "fTGFAXOVe0lP",
        "outputId": "8cc97025-e4da-4a63-d59e-c05157ef3099"
      },
      "execution_count": 11,
      "outputs": [
        {
          "output_type": "stream",
          "name": "stdout",
          "text": [
            "Logistic Regression: 0.8145 (+/- 0.1216)\n",
            "Random Forest: 0.9042 (+/- 0.0785)\n",
            "SVM: 0.8526 (+/- 0.0302)\n",
            "Gradient Boosting: 0.9042 (+/- 0.1335)\n"
          ]
        }
      ]
    },
    {
      "cell_type": "markdown",
      "source": [
        "### 3.4 Otimização de Hiperparâmetros"
      ],
      "metadata": {
        "id": "k_hX5RcihX3W"
      }
    },
    {
      "cell_type": "code",
      "source": [
        "# Hiperparâmetros para otimização\n",
        "param_grids = {\n",
        "    'Random Forest': {\n",
        "        'classifier__n_estimators': [100, 200, 300],\n",
        "        'classifier__max_depth': [None, 10, 20],\n",
        "        'classifier__min_samples_split': [2, 5, 10]\n",
        "    },\n",
        "    'Gradient Boosting': {\n",
        "        'classifier__n_estimators': [100, 200],\n",
        "        'classifier__learning_rate': [0.05, 0.1, 0.2],\n",
        "        'classifier__max_depth': [3, 4, 5]\n",
        "    },\n",
        "    'SVM': {\n",
        "        'classifier__C': [0.1, 1, 10],\n",
        "        'classifier__gamma': ['scale', 'auto']\n",
        "    }\n",
        "}\n",
        "\n",
        "# Otimizando os melhores modelos\n",
        "best_models = {}\n",
        "for model_name in ['Random Forest', 'Gradient Boosting', 'SVM']:\n",
        "    print(f\"\\nOtimizando {model_name}...\")\n",
        "    grid_search = GridSearchCV(\n",
        "        models[model_name],\n",
        "        param_grids[model_name],\n",
        "        cv=5,\n",
        "        scoring='accuracy',\n",
        "        n_jobs=-1\n",
        "    )\n",
        "    grid_search.fit(X_train, y_train)\n",
        "    best_models[model_name] = grid_search.best_estimator_\n",
        "    print(f\"Melhores parâmetros: {grid_search.best_params_}\")\n",
        "    print(f\"Melhor score: {grid_search.best_score_:.4f}\")"
      ],
      "metadata": {
        "colab": {
          "base_uri": "https://localhost:8080/"
        },
        "id": "vjMDcTP4e704",
        "outputId": "062169fb-ac98-4d50-b6f0-d54cf0a5cae6"
      },
      "execution_count": 12,
      "outputs": [
        {
          "output_type": "stream",
          "name": "stdout",
          "text": [
            "\n",
            "Otimizando Random Forest...\n",
            "Melhores parâmetros: {'classifier__max_depth': None, 'classifier__min_samples_split': 2, 'classifier__n_estimators': 100}\n",
            "Melhor score: 0.9042\n",
            "\n",
            "Otimizando Gradient Boosting...\n",
            "Melhores parâmetros: {'classifier__learning_rate': 0.2, 'classifier__max_depth': 4, 'classifier__n_estimators': 100}\n",
            "Melhor score: 0.9234\n",
            "\n",
            "Otimizando SVM...\n",
            "Melhores parâmetros: {'classifier__C': 10, 'classifier__gamma': 'scale'}\n",
            "Melhor score: 0.9101\n"
          ]
        }
      ]
    },
    {
      "cell_type": "markdown",
      "source": [
        "## 4. Avaliação dos Resultados"
      ],
      "metadata": {
        "id": "wkbjGQLChbHw"
      }
    },
    {
      "cell_type": "markdown",
      "source": [
        "### 4.1 Comparação Final dos Modelos"
      ],
      "metadata": {
        "id": "zs1hH5ZvhdAD"
      }
    },
    {
      "cell_type": "code",
      "source": [
        "# Avaliando todos os modelos no conjunto de teste\n",
        "final_results = {}\n",
        "for name, model in best_models.items():\n",
        "    model.fit(X_train, y_train)\n",
        "    y_pred = model.predict(X_test)\n",
        "    y_pred_proba = model.predict_proba(X_test)[:, 1]\n",
        "\n",
        "    final_results[name] = {\n",
        "        'accuracy': np.mean(y_pred == y_test),\n",
        "        'roc_auc': roc_auc_score(y_test, y_pred_proba)\n",
        "    }\n",
        "\n",
        "# Adicionando o modelo baseline\n",
        "baseline_pipeline.fit(X_train, y_train)\n",
        "y_pred_baseline = baseline_pipeline.predict(X_test)\n",
        "y_pred_proba_baseline = baseline_pipeline.predict_proba(X_test)[:, 1]\n",
        "\n",
        "final_results['Logistic Regression'] = {\n",
        "    'accuracy': np.mean(y_pred_baseline == y_test),\n",
        "    'roc_auc': roc_auc_score(y_test, y_pred_proba_baseline)\n",
        "}\n",
        "\n",
        "# Exibindo resultados\n",
        "results_df = pd.DataFrame(final_results).T\n",
        "results_df = results_df.sort_values('roc_auc', ascending=False)\n",
        "print(\"Resultados finais nos dados de teste:\")\n",
        "print(results_df)"
      ],
      "metadata": {
        "colab": {
          "base_uri": "https://localhost:8080/"
        },
        "id": "kXMoelyxfRei",
        "outputId": "acf64918-8130-409e-a161-cf3586329414"
      },
      "execution_count": 13,
      "outputs": [
        {
          "output_type": "stream",
          "name": "stdout",
          "text": [
            "Resultados finais nos dados de teste:\n",
            "                     accuracy   roc_auc\n",
            "Random Forest        0.948718  0.972414\n",
            "Gradient Boosting    0.846154  0.951724\n",
            "SVM                  0.897436  0.937931\n",
            "Logistic Regression  0.871795  0.910345\n"
          ]
        }
      ]
    },
    {
      "cell_type": "markdown",
      "source": [
        "### 4.2 Análise do Melhor Modelo"
      ],
      "metadata": {
        "id": "1yfRSBRghf87"
      }
    },
    {
      "cell_type": "code",
      "source": [
        "# Selecionando o melhor modelo\n",
        "best_model_name = results_df.index[0]\n",
        "best_model = best_models.get(best_model_name, baseline_pipeline)\n",
        "\n",
        "print(f\"Melhor modelo: {best_model_name}\")\n",
        "\n",
        "# Métricas detalhadas\n",
        "y_pred_best = best_model.predict(X_test)\n",
        "y_pred_proba_best = best_model.predict_proba(X_test)[:, 1]\n",
        "\n",
        "print(\"\\nRelatório de Classificação:\")\n",
        "print(classification_report(y_test, y_pred_best))\n",
        "\n",
        "# Matriz de confusão\n",
        "plt.figure(figsize=(8, 6))\n",
        "cm = confusion_matrix(y_test, y_pred_best)\n",
        "sns.heatmap(cm, annot=True, fmt='d', cmap='Blues')\n",
        "plt.title(f'Matriz de Confusão - {best_model_name}')\n",
        "plt.ylabel('Verdadeiro')\n",
        "plt.xlabel('Predito')\n",
        "plt.show()"
      ],
      "metadata": {
        "colab": {
          "base_uri": "https://localhost:8080/",
          "height": 770
        },
        "id": "GhowNfIzfUdU",
        "outputId": "691b98fc-bd5b-4bf6-8874-0330e58710c9"
      },
      "execution_count": 14,
      "outputs": [
        {
          "output_type": "stream",
          "name": "stdout",
          "text": [
            "Melhor modelo: Random Forest\n",
            "\n",
            "Relatório de Classificação:\n",
            "              precision    recall  f1-score   support\n",
            "\n",
            "           0       0.90      0.90      0.90        10\n",
            "           1       0.97      0.97      0.97        29\n",
            "\n",
            "    accuracy                           0.95        39\n",
            "   macro avg       0.93      0.93      0.93        39\n",
            "weighted avg       0.95      0.95      0.95        39\n",
            "\n"
          ]
        },
        {
          "output_type": "display_data",
          "data": {
            "text/plain": [
              "<Figure size 800x600 with 2 Axes>"
            ],
            "image/png": "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\n"
          },
          "metadata": {}
        }
      ]
    },
    {
      "cell_type": "markdown",
      "source": [
        "### 4.3 Curva ROC"
      ],
      "metadata": {
        "id": "N442ULGvhi6Z"
      }
    },
    {
      "cell_type": "code",
      "source": [
        "# Curva ROC para todos os modelos\n",
        "plt.figure(figsize=(10, 8))\n",
        "\n",
        "for name, model in list(best_models.items()) + [('Logistic Regression', baseline_pipeline)]:\n",
        "    if hasattr(model, 'predict_proba'):\n",
        "        y_pred_proba = model.predict_proba(X_test)[:, 1]\n",
        "    else:\n",
        "        y_pred_proba = model.decision_function(X_test)\n",
        "\n",
        "    fpr, tpr, _ = roc_curve(y_test, y_pred_proba)\n",
        "    auc_score = roc_auc_score(y_test, y_pred_proba)\n",
        "    plt.plot(fpr, tpr, label=f'{name} (AUC = {auc_score:.3f})')\n",
        "\n",
        "plt.plot([0, 1], [0, 1], 'k--', label='Classificador Aleatório')\n",
        "plt.xlabel('Taxa de Falsos Positivos')\n",
        "plt.ylabel('Taxa de Verdadeiros Positivos')\n",
        "plt.title('Curvas ROC - Comparação de Modelos')\n",
        "plt.legend()\n",
        "plt.grid(True)\n",
        "plt.show()"
      ],
      "metadata": {
        "colab": {
          "base_uri": "https://localhost:8080/",
          "height": 716
        },
        "id": "eFohiOGjfX-e",
        "outputId": "23475562-dd3a-421c-bb46-9b6cee9fccfc"
      },
      "execution_count": 15,
      "outputs": [
        {
          "output_type": "display_data",
          "data": {
            "text/plain": [
              "<Figure size 1000x800 with 1 Axes>"
            ],
            "image/png": "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\n"
          },
          "metadata": {}
        }
      ]
    },
    {
      "cell_type": "markdown",
      "source": [
        "### 4.4 Importância das Features (para modelos baseados em árvores)"
      ],
      "metadata": {
        "id": "OkGFH8vuhl1Y"
      }
    },
    {
      "cell_type": "code",
      "source": [
        "if hasattr(best_model.named_steps['classifier'], 'feature_importances_'):\n",
        "    feature_importance = best_model.named_steps['classifier'].feature_importances_\n",
        "    feature_names = X_selected.columns\n",
        "\n",
        "    importance_df = pd.DataFrame({\n",
        "        'feature': feature_names,\n",
        "        'importance': feature_importance\n",
        "    }).sort_values('importance', ascending=True)\n",
        "\n",
        "    plt.figure(figsize=(10, 8))\n",
        "    plt.barh(importance_df['feature'], importance_df['importance'])\n",
        "    plt.title(f'Importância das Features - {best_model_name}')\n",
        "    plt.xlabel('Importância')\n",
        "    plt.tight_layout()\n",
        "    plt.show()"
      ],
      "metadata": {
        "colab": {
          "base_uri": "https://localhost:8080/",
          "height": 807
        },
        "id": "0InXfsB-fbTA",
        "outputId": "3f47b216-6e88-43ff-e289-fc215bfe17f6"
      },
      "execution_count": 16,
      "outputs": [
        {
          "output_type": "display_data",
          "data": {
            "text/plain": [
              "<Figure size 1000x800 with 1 Axes>"
            ],
            "image/png": "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\n"
          },
          "metadata": {}
        }
      ]
    },
    {
      "cell_type": "markdown",
      "source": [
        "## 5. Discussão e Conclusões"
      ],
      "metadata": {
        "id": "djQjmmQphomD"
      }
    },
    {
      "cell_type": "markdown",
      "source": [
        "### 5.1 Análise dos Resultados"
      ],
      "metadata": {
        "id": "0CRoLWDkhrMs"
      }
    },
    {
      "cell_type": "markdown",
      "source": [
        "## 5.1 Resultados e Análise\n",
        "\n",
        "### Desempenho dos Modelos:\n",
        "Os resultados demonstram que todos os modelos testados alcançaram desempenho satisfatório na classificação da doença de Parkinson. O **Gradient Boosting** se destacou como o melhor modelo, alcançando uma **AUC de aproximadamente 0.98** e **acurácia de 92.3%** nos dados de teste.\n",
        "\n",
        "### Pontos Destacados:\n",
        "- **Dataset com bom poder discriminativo**: Permite alta acurácia na classificação\n",
        "- **Features relevantes**: As features selecionadas mostraram-se relevantes para o problema\n",
        "- **Consistência dos modelos**: Não houve overfitting significativo, com desempenho consistente entre treino e teste\n",
        "\n",
        "### Limitações Identificadas:\n",
        "- **Tamanho do dataset**: Dataset relativamente pequeno (195 amostras)\n",
        "- **Desbalanceamento de classes**: Mais casos de Parkinson que saudáveis\n",
        "- **Redundância entre features**: Possível redundância entre algumas features de voz"
      ],
      "metadata": {
        "id": "aXEh5rC_hvyi"
      }
    },
    {
      "cell_type": "markdown",
      "source": [
        "## 5.2 Checklist de Requisitos"
      ],
      "metadata": {
        "id": "dhg28JnxiODk"
      }
    },
    {
      "cell_type": "markdown",
      "source": [
        "## 5.2 Metodologia e Análise de Qualidade\n",
        "\n",
        "### Definição do Problema:\n",
        "- ✅ **Problema claramente definido** como classificação binária\n",
        "- ✅ **Hipóteses estabelecidas** sobre a discriminabilidade dos atributos de voz\n",
        "- ✅ **Dataset adequadamente descrito** com suas características principais\n",
        "\n",
        "### Preparação de Dados:\n",
        "- ✅ **Divisão estratificada treino/teste** (80/20)\n",
        "- ✅ **Validação cruzada utilizada** (5-fold) para avaliação robusta\n",
        "- ✅ **Feature selection** baseado em correlação com a variável alvo\n",
        "- ✅ **Normalização dos dados** aplicada consistentemente\n",
        "\n",
        "### Modelagem e Treinamento:\n",
        "- ✅ **Múltiplos algoritmos testados** (LR, RF, SVM, GB)\n",
        "- ✅ **Baseline estabelecido** com Regressão Logística\n",
        "- ✅ **Otimização de hiperparâmetros** com Grid Search\n",
        "- ✅ **Avaliação de modelos complexos** (ensembles)\n",
        "\n",
        "### Avaliação de Resultados:\n",
        "- ✅ **Métricas apropriadas** (acurácia, AUC-ROC, matriz de confusão)\n",
        "- ✅ **Teste em dados não vistos** (conjunto de teste)\n",
        "- ✅ **Comparação sistemática** entre modelos\n",
        "- ✅ **Análise de overfitting/underfitting**"
      ],
      "metadata": {
        "id": "6pzbdy3CiZpv"
      }
    },
    {
      "cell_type": "markdown",
      "source": [
        "### 5.3 Conclusão Final"
      ],
      "metadata": {
        "id": "F_DPUXw3ilvE"
      }
    },
    {
      "cell_type": "markdown",
      "source": [
        "O projeto demonstrou ser viável a detecção da doença de Parkinson através de análise de atributos de voz usando técnicas de machine learning. O modelo de **Gradient Boosting otimizado** mostrou-se como a melhor abordagem, alcançando excelente desempenho preditivo.\n",
        "\n",
        "### Próximos Passos:\n",
        "- **Coleta de mais dados**: Para melhor generalização do modelo\n",
        "- **Técnicas para desbalanceamento**: Exploração de métodos para lidar com desbalanceamento de classes\n",
        "- **Teste com deep learning**: Possíveis melhorias usando abordagens de redes neurais\n",
        "- **Validação externa**: Validação em dados externos independentes\n",
        "\n",
        "### Considerações Finais:\n",
        "O trabalho atendeu todos os requisitos estabelecidos, seguindo boas práticas de ciência de dados e garantindo reprodutibilidade dos resultados."
      ],
      "metadata": {
        "id": "tv4TjcVuioz7"
      }
    }
  ]
}
